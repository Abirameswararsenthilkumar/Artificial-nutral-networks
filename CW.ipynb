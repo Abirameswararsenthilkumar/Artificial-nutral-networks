{
 "cells": [
  {
   "cell_type": "code",
   "execution_count": 62,
   "metadata": {},
   "outputs": [],
   "source": [
    "from numpy import array\n",
    "from keras.preprocessing.text import one_hot\n",
    "from keras.preprocessing.sequence import pad_sequences\n",
    "from keras.models import Sequential\n",
    "from keras.layers.embeddings import Embedding\n",
    "import nltk\n",
    "from nltk.stem import WordNetLemmatizer\n",
    "import json\n",
    "import pickle\n",
    "import re\n",
    "from nltk.corpus import stopwords\n",
    "\n",
    "import numpy as np\n",
    "import pandas as pd\n",
    "from keras.layers import Dense, Activation, Dropout, Flatten, LSTM, Bidirectional\n",
    "from tensorflow.keras.optimizers import SGD, Adam\n",
    "import random\n",
    "\n",
    "from sklearn.metrics import confusion_matrix\n",
    "from sklearn.model_selection import train_test_split\n",
    "\n",
    "from numpy import array\n",
    "from numpy import asarray\n",
    "from numpy import zeros\n",
    "from keras.preprocessing.text import Tokenizer\n",
    "from nltk.tokenize import word_tokenize\n",
    "\n",
    "import matplotlib.pyplot as plt\n",
    "\n",
    "import seaborn as sns"
   ]
  },
  {
   "cell_type": "code",
   "execution_count": 2,
   "metadata": {},
   "outputs": [],
   "source": [
    "data_train = pd.read_csv('D:/CW/train.txt', sep=\";\", header=None)\n",
    "data_train.columns = [\"text\", \"label\"]"
   ]
  },
  {
   "cell_type": "code",
   "execution_count": 3,
   "metadata": {},
   "outputs": [],
   "source": [
    "data_test = pd.read_csv('D:/CW/test.txt', sep=\";\", header=None)\n",
    "data_test.columns = [\"text\", \"label\"]"
   ]
  },
  {
   "cell_type": "code",
   "execution_count": 4,
   "metadata": {},
   "outputs": [
    {
     "data": {
      "text/html": [
       "<div>\n",
       "<style scoped>\n",
       "    .dataframe tbody tr th:only-of-type {\n",
       "        vertical-align: middle;\n",
       "    }\n",
       "\n",
       "    .dataframe tbody tr th {\n",
       "        vertical-align: top;\n",
       "    }\n",
       "\n",
       "    .dataframe thead th {\n",
       "        text-align: right;\n",
       "    }\n",
       "</style>\n",
       "<table border=\"1\" class=\"dataframe\">\n",
       "  <thead>\n",
       "    <tr style=\"text-align: right;\">\n",
       "      <th></th>\n",
       "      <th>text</th>\n",
       "      <th>label</th>\n",
       "    </tr>\n",
       "  </thead>\n",
       "  <tbody>\n",
       "    <tr>\n",
       "      <th>0</th>\n",
       "      <td>i didnt feel humiliated</td>\n",
       "      <td>sadness</td>\n",
       "    </tr>\n",
       "    <tr>\n",
       "      <th>1</th>\n",
       "      <td>i can go from feeling so hopeless to so damned...</td>\n",
       "      <td>sadness</td>\n",
       "    </tr>\n",
       "    <tr>\n",
       "      <th>2</th>\n",
       "      <td>im grabbing a minute to post i feel greedy wrong</td>\n",
       "      <td>anger</td>\n",
       "    </tr>\n",
       "    <tr>\n",
       "      <th>3</th>\n",
       "      <td>i am ever feeling nostalgic about the fireplac...</td>\n",
       "      <td>love</td>\n",
       "    </tr>\n",
       "    <tr>\n",
       "      <th>4</th>\n",
       "      <td>i am feeling grouchy</td>\n",
       "      <td>anger</td>\n",
       "    </tr>\n",
       "  </tbody>\n",
       "</table>\n",
       "</div>"
      ],
      "text/plain": [
       "                                                text    label\n",
       "0                            i didnt feel humiliated  sadness\n",
       "1  i can go from feeling so hopeless to so damned...  sadness\n",
       "2   im grabbing a minute to post i feel greedy wrong    anger\n",
       "3  i am ever feeling nostalgic about the fireplac...     love\n",
       "4                               i am feeling grouchy    anger"
      ]
     },
     "execution_count": 4,
     "metadata": {},
     "output_type": "execute_result"
    }
   ],
   "source": [
    "data_train.head()"
   ]
  },
  {
   "cell_type": "code",
   "execution_count": 5,
   "metadata": {},
   "outputs": [
    {
     "data": {
      "text/plain": [
       "(16000, 2)"
      ]
     },
     "execution_count": 5,
     "metadata": {},
     "output_type": "execute_result"
    }
   ],
   "source": [
    "data_train.shape"
   ]
  },
  {
   "cell_type": "code",
   "execution_count": 6,
   "metadata": {},
   "outputs": [
    {
     "data": {
      "text/plain": [
       "(2000, 2)"
      ]
     },
     "execution_count": 6,
     "metadata": {},
     "output_type": "execute_result"
    }
   ],
   "source": [
    "data_test.shape"
   ]
  },
  {
   "cell_type": "code",
   "execution_count": 7,
   "metadata": {},
   "outputs": [
    {
     "data": {
      "text/plain": [
       "<AxesSubplot:xlabel='label', ylabel='count'>"
      ]
     },
     "execution_count": 7,
     "metadata": {},
     "output_type": "execute_result"
    },
    {
     "data": {
      "image/png": "[encoded data removed]",
      "text/plain": [
       "<Figure size 432x288 with 1 Axes>"
      ]
     },
     "metadata": {
      "needs_background": "light"
     },
     "output_type": "display_data"
    }
   ],
   "source": [
    "#Target variable count\n",
    "sns.countplot(data = data_train, x = 'label')"
   ]
  },
  {
   "cell_type": "code",
   "execution_count": 8,
   "metadata": {},
   "outputs": [
    {
     "data": {
      "text/plain": [
       "joy         5362\n",
       "sadness     4666\n",
       "anger       2159\n",
       "fear        1937\n",
       "love        1304\n",
       "surprise     572\n",
       "Name: label, dtype: int64"
      ]
     },
     "execution_count": 8,
     "metadata": {},
     "output_type": "execute_result"
    }
   ],
   "source": [
    "data_train['label'].value_counts()"
   ]
  },
  {
   "cell_type": "code",
   "execution_count": 9,
   "metadata": {},
   "outputs": [],
   "source": [
    "def text_clean(clean_text):\n",
    "    lemmatizer = WordNetLemmatizer()\n",
    "    reg = clean_text.lower()\n",
    "    reg = re.sub(r\"i'm\", \"i am\", reg)\n",
    "    reg = re.sub(r\"im\", \"i am\", reg)\n",
    "    reg = re.sub(r\"he's\", \"he is\", reg)\n",
    "    reg = re.sub(r\"she's\", \"she is\", reg)\n",
    "    reg = re.sub(r\"[-()\\\"#/@;:<>`+=~|.!?,]\", \"\", reg)\n",
    "    reg = re.sub(r\"[^\\w\\s]\", \"\", reg)\n",
    "    reg = reg.split()\n",
    "    reg = [lemmatizer.lemmatize(word) for word in reg if word not in stopwords.words('english')]\n",
    "    reg = \" \".join(reg)\n",
    "    return reg"
   ]
  },
  {
   "cell_type": "code",
   "execution_count": 10,
   "metadata": {},
   "outputs": [],
   "source": [
    "classes = sorted(list(set(data_train['label'])))"
   ]
  },
  {
   "cell_type": "code",
   "execution_count": 11,
   "metadata": {},
   "outputs": [
    {
     "data": {
      "text/plain": [
       "['anger', 'fear', 'joy', 'love', 'sadness', 'surprise']"
      ]
     },
     "execution_count": 11,
     "metadata": {},
     "output_type": "execute_result"
    }
   ],
   "source": [
    "classes"
   ]
  },
  {
   "cell_type": "code",
   "execution_count": 12,
   "metadata": {},
   "outputs": [],
   "source": [
    "# Output empty array \n",
    "output_empty = [0] * len(classes)"
   ]
  },
  {
   "cell_type": "code",
   "execution_count": 13,
   "metadata": {},
   "outputs": [
    {
     "data": {
      "text/plain": [
       "[0, 0, 0, 0, 0, 0]"
      ]
     },
     "execution_count": 13,
     "metadata": {},
     "output_type": "execute_result"
    }
   ],
   "source": [
    "output_empty"
   ]
  },
  {
   "cell_type": "code",
   "execution_count": 14,
   "metadata": {},
   "outputs": [
    {
     "name": "stdout",
     "output_type": "stream",
     "text": [
      "16000\n"
     ]
    }
   ],
   "source": [
    "# Training data\n",
    "training = []\n",
    "\n",
    "for doc in data_train['text']:\n",
    "\n",
    "    training.append(text_clean(doc))\n",
    "\n",
    "print(len(training))"
   ]
  },
  {
   "cell_type": "code",
   "execution_count": 15,
   "metadata": {},
   "outputs": [
    {
     "data": {
      "text/plain": [
       "'didnt feel humiliated'"
      ]
     },
     "execution_count": 15,
     "metadata": {},
     "output_type": "execute_result"
    }
   ],
   "source": [
    "training[0]"
   ]
  },
  {
   "cell_type": "code",
   "execution_count": 16,
   "metadata": {},
   "outputs": [
    {
     "data": {
      "text/plain": [
       "'i didnt feel humiliated'"
      ]
     },
     "execution_count": 16,
     "metadata": {},
     "output_type": "execute_result"
    }
   ],
   "source": [
    "data_train['text'][0]"
   ]
  },
  {
   "cell_type": "code",
   "execution_count": 17,
   "metadata": {},
   "outputs": [
    {
     "name": "stdout",
     "output_type": "stream",
     "text": [
      "16000\n"
     ]
    }
   ],
   "source": [
    "# training data label\n",
    "training_class = []\n",
    "\n",
    "for lab in data_train['label']:\n",
    "\n",
    "    # '1' for current tag and remaining '0' \n",
    "    output_row = list(output_empty)\n",
    "    output_row[classes.index(lab)] = 1\n",
    "\n",
    "    training_class.append(output_row)\n",
    "\n",
    "print(len(training_class))"
   ]
  },
  {
   "cell_type": "code",
   "execution_count": 18,
   "metadata": {},
   "outputs": [
    {
     "data": {
      "text/plain": [
       "[0, 0, 0, 0, 1, 0]"
      ]
     },
     "execution_count": 18,
     "metadata": {},
     "output_type": "execute_result"
    }
   ],
   "source": [
    "training_class[0]"
   ]
  },
  {
   "cell_type": "code",
   "execution_count": 19,
   "metadata": {},
   "outputs": [
    {
     "name": "stdout",
     "output_type": "stream",
     "text": [
      "13469\n"
     ]
    }
   ],
   "source": [
    "token = Tokenizer()\n",
    "token.fit_on_texts(training)\n",
    "vocab_size = len(token.word_index) + 1\n",
    "print(vocab_size)"
   ]
  },
  {
   "cell_type": "code",
   "execution_count": 20,
   "metadata": {},
   "outputs": [],
   "source": [
    "enc_docs = token.texts_to_sequences(training)"
   ]
  },
  {
   "cell_type": "code",
   "execution_count": 21,
   "metadata": {},
   "outputs": [
    {
     "name": "stdout",
     "output_type": "stream",
     "text": [
      "35\n"
     ]
    }
   ],
   "source": [
    "word_count = lambda sentence: len(word_tokenize(sentence))\n",
    "longest_sentence = max(training, key=word_count)\n",
    "len_long_sentence = len(word_tokenize(longest_sentence))\n",
    "print(len_long_sentence)"
   ]
  },
  {
   "cell_type": "code",
   "execution_count": 22,
   "metadata": {},
   "outputs": [],
   "source": [
    "# pad documents \n",
    "max_length = 70\n",
    "pad_docs = pad_sequences(enc_docs, maxlen=max_length, padding='post')\n",
    "pad_docs = np.array(pad_docs)"
   ]
  },
  {
   "cell_type": "code",
   "execution_count": 23,
   "metadata": {},
   "outputs": [
    {
     "data": {
      "text/plain": [
       "array([ 52,   1, 571,   0,   0,   0,   0,   0,   0,   0,   0,   0,   0,\n",
       "         0,   0,   0,   0,   0,   0,   0,   0,   0,   0,   0,   0,   0,\n",
       "         0,   0,   0,   0,   0,   0,   0,   0,   0,   0,   0,   0,   0,\n",
       "         0,   0,   0,   0,   0,   0,   0,   0,   0,   0,   0,   0,   0,\n",
       "         0,   0,   0,   0,   0,   0,   0,   0,   0,   0,   0,   0,   0,\n",
       "         0,   0,   0,   0,   0])"
      ]
     },
     "execution_count": 23,
     "metadata": {},
     "output_type": "execute_result"
    }
   ],
   "source": [
    "pad_docs[0]"
   ]
  },
  {
   "cell_type": "code",
   "execution_count": 24,
   "metadata": {},
   "outputs": [
    {
     "name": "stdout",
     "output_type": "stream",
     "text": [
      "Loaded 400000 word vectors.\n"
     ]
    }
   ],
   "source": [
    "# load the whole embedding into memory\n",
    "embeddings_index = dict()\n",
    "f = open('D:/CW/glove/glove.6B.300d.txt', encoding=\"utf8\")\n",
    "for line in f:\n",
    "    values = line.split()\n",
    "    word = values[0]\n",
    "    coefs = asarray(values[1:], dtype='float32')\n",
    "    embeddings_index[word] = coefs\n",
    "f.close()\n",
    "\n",
    "print('Loaded %s word vectors.' % len(embeddings_index))"
   ]
  },
  {
   "cell_type": "code",
   "execution_count": 25,
   "metadata": {},
   "outputs": [
    {
     "name": "stdout",
     "output_type": "stream",
     "text": [
      "300\n"
     ]
    }
   ],
   "source": [
    "# Weight matrix for words in training docs\n",
    "embed_matrix = zeros((vocab_size, 300))\n",
    "print(len(embed_matrix[0]))\n",
    "for word, i in token.word_index.items():\n",
    "    embedding_vector = embeddings_index.get(word)\n",
    "    if embedding_vector is not None:\n",
    "        embed_matrix[i] = embedding_vector"
   ]
  },
  {
   "cell_type": "code",
   "execution_count": 26,
   "metadata": {},
   "outputs": [
    {
     "data": {
      "text/plain": [
       "(13469, 300)"
      ]
     },
     "execution_count": 26,
     "metadata": {},
     "output_type": "execute_result"
    }
   ],
   "source": [
    "embed_matrix.shape"
   ]
  },
  {
   "cell_type": "code",
   "execution_count": 27,
   "metadata": {},
   "outputs": [
    {
     "data": {
      "text/plain": [
       "<AxesSubplot:xlabel='label', ylabel='count'>"
      ]
     },
     "execution_count": 27,
     "metadata": {},
     "output_type": "execute_result"
    },
    {
     "data": {
      "image/png": "[encoded data removed]",
      "text/plain": [
       "<Figure size 432x288 with 1 Axes>"
      ]
     },
     "metadata": {
      "needs_background": "light"
     },
     "output_type": "display_data"
    }
   ],
   "source": [
    "#Target variable test data count\n",
    "sns.countplot(data = data_test, x = 'label')"
   ]
  },
  {
   "cell_type": "code",
   "execution_count": 28,
   "metadata": {},
   "outputs": [],
   "source": [
    "classes_test = sorted(list(set(data_test['label'])))"
   ]
  },
  {
   "cell_type": "code",
   "execution_count": 29,
   "metadata": {},
   "outputs": [
    {
     "data": {
      "text/plain": [
       "['anger', 'fear', 'joy', 'love', 'sadness', 'surprise']"
      ]
     },
     "execution_count": 29,
     "metadata": {},
     "output_type": "execute_result"
    }
   ],
   "source": [
    "classes_test"
   ]
  },
  {
   "cell_type": "code",
   "execution_count": 30,
   "metadata": {},
   "outputs": [
    {
     "name": "stdout",
     "output_type": "stream",
     "text": [
      "2000\n"
     ]
    }
   ],
   "source": [
    "# Training data\n",
    "testing = []\n",
    "\n",
    "for doc in data_test['text']:\n",
    "\n",
    "    testing.append(text_clean(doc))\n",
    "\n",
    "print(len(testing))"
   ]
  },
  {
   "cell_type": "code",
   "execution_count": 31,
   "metadata": {},
   "outputs": [
    {
     "data": {
      "text/plain": [
       "'updating blog feel shitty'"
      ]
     },
     "execution_count": 31,
     "metadata": {},
     "output_type": "execute_result"
    }
   ],
   "source": [
    "testing[1]"
   ]
  },
  {
   "cell_type": "code",
   "execution_count": 32,
   "metadata": {},
   "outputs": [
    {
     "data": {
      "text/plain": [
       "'im updating my blog because i feel shitty'"
      ]
     },
     "execution_count": 32,
     "metadata": {},
     "output_type": "execute_result"
    }
   ],
   "source": [
    "data_test['text'][1]"
   ]
  },
  {
   "cell_type": "code",
   "execution_count": 33,
   "metadata": {},
   "outputs": [
    {
     "name": "stdout",
     "output_type": "stream",
     "text": [
      "2000\n"
     ]
    }
   ],
   "source": [
    "# testing data label\n",
    "testing_class = []\n",
    "\n",
    "for lab in data_test['label']:\n",
    "\n",
    "    # '1' for current tag and remaining '0' \n",
    "    output_row_test = list(output_empty)\n",
    "    output_row_test[classes_test.index(lab)] = 1\n",
    "\n",
    "    testing_class.append(output_row_test)\n",
    "\n",
    "print(len(testing_class))"
   ]
  },
  {
   "cell_type": "code",
   "execution_count": 34,
   "metadata": {},
   "outputs": [],
   "source": [
    "enc_docs_testing = token.texts_to_sequences(testing)"
   ]
  },
  {
   "cell_type": "code",
   "execution_count": 35,
   "metadata": {},
   "outputs": [],
   "source": [
    "# pad documents testing\n",
    "max_length = 70\n",
    "pad_docs_testing = pad_sequences(enc_docs_testing, maxlen=max_length, padding='post')\n",
    "pad_docs_testing = np.array(pad_docs_testing)"
   ]
  },
  {
   "cell_type": "code",
   "execution_count": 36,
   "metadata": {},
   "outputs": [
    {
     "data": {
      "text/plain": [
       "array([11354,   117,     1,   359,     0,     0,     0,     0,     0,\n",
       "           0,     0,     0,     0,     0,     0,     0,     0,     0,\n",
       "           0,     0,     0,     0,     0,     0,     0,     0,     0,\n",
       "           0,     0,     0,     0,     0,     0,     0,     0,     0,\n",
       "           0,     0,     0,     0,     0,     0,     0,     0,     0,\n",
       "           0,     0,     0,     0,     0,     0,     0,     0,     0,\n",
       "           0,     0,     0,     0,     0,     0,     0,     0,     0,\n",
       "           0,     0,     0,     0,     0,     0,     0])"
      ]
     },
     "execution_count": 36,
     "metadata": {},
     "output_type": "execute_result"
    }
   ],
   "source": [
    "pad_docs_testing[1]"
   ]
  },
  {
   "cell_type": "code",
   "execution_count": 37,
   "metadata": {},
   "outputs": [
    {
     "data": {
      "text/html": [
       "<div>\n",
       "<style scoped>\n",
       "    .dataframe tbody tr th:only-of-type {\n",
       "        vertical-align: middle;\n",
       "    }\n",
       "\n",
       "    .dataframe tbody tr th {\n",
       "        vertical-align: top;\n",
       "    }\n",
       "\n",
       "    .dataframe thead th {\n",
       "        text-align: right;\n",
       "    }\n",
       "</style>\n",
       "<table border=\"1\" class=\"dataframe\">\n",
       "  <thead>\n",
       "    <tr style=\"text-align: right;\">\n",
       "      <th></th>\n",
       "      <th>text</th>\n",
       "      <th>label</th>\n",
       "    </tr>\n",
       "  </thead>\n",
       "  <tbody>\n",
       "    <tr>\n",
       "      <th>0</th>\n",
       "      <td>i didnt feel humiliated</td>\n",
       "      <td>0</td>\n",
       "    </tr>\n",
       "    <tr>\n",
       "      <th>1</th>\n",
       "      <td>i can go from feeling so hopeless to so damned...</td>\n",
       "      <td>0</td>\n",
       "    </tr>\n",
       "    <tr>\n",
       "      <th>2</th>\n",
       "      <td>im grabbing a minute to post i feel greedy wrong</td>\n",
       "      <td>1</td>\n",
       "    </tr>\n",
       "    <tr>\n",
       "      <th>3</th>\n",
       "      <td>i am ever feeling nostalgic about the fireplac...</td>\n",
       "      <td>3</td>\n",
       "    </tr>\n",
       "    <tr>\n",
       "      <th>4</th>\n",
       "      <td>i am feeling grouchy</td>\n",
       "      <td>1</td>\n",
       "    </tr>\n",
       "  </tbody>\n",
       "</table>\n",
       "</div>"
      ],
      "text/plain": [
       "                                                text  label\n",
       "0                            i didnt feel humiliated      0\n",
       "1  i can go from feeling so hopeless to so damned...      0\n",
       "2   im grabbing a minute to post i feel greedy wrong      1\n",
       "3  i am ever feeling nostalgic about the fireplac...      3\n",
       "4                               i am feeling grouchy      1"
      ]
     },
     "execution_count": 37,
     "metadata": {},
     "output_type": "execute_result"
    }
   ],
   "source": [
    "classes_enc = {\"sadness\": 0, \"anger\": 1, \"fear\": 2, \"love\": 3, \"surprise\": 4, \"joy\": 5}\n",
    "data_train['label'] = data_train['label'].map(classes_enc)\n",
    "data_train.head()"
   ]
  },
  {
   "cell_type": "code",
   "execution_count": 38,
   "metadata": {},
   "outputs": [
    {
     "data": {
      "text/html": [
       "<div>\n",
       "<style scoped>\n",
       "    .dataframe tbody tr th:only-of-type {\n",
       "        vertical-align: middle;\n",
       "    }\n",
       "\n",
       "    .dataframe tbody tr th {\n",
       "        vertical-align: top;\n",
       "    }\n",
       "\n",
       "    .dataframe thead th {\n",
       "        text-align: right;\n",
       "    }\n",
       "</style>\n",
       "<table border=\"1\" class=\"dataframe\">\n",
       "  <thead>\n",
       "    <tr style=\"text-align: right;\">\n",
       "      <th></th>\n",
       "      <th>text</th>\n",
       "      <th>label</th>\n",
       "    </tr>\n",
       "  </thead>\n",
       "  <tbody>\n",
       "    <tr>\n",
       "      <th>0</th>\n",
       "      <td>im feeling rather rotten so im not very ambiti...</td>\n",
       "      <td>0</td>\n",
       "    </tr>\n",
       "    <tr>\n",
       "      <th>1</th>\n",
       "      <td>im updating my blog because i feel shitty</td>\n",
       "      <td>0</td>\n",
       "    </tr>\n",
       "    <tr>\n",
       "      <th>2</th>\n",
       "      <td>i never make her separate from me because i do...</td>\n",
       "      <td>0</td>\n",
       "    </tr>\n",
       "    <tr>\n",
       "      <th>3</th>\n",
       "      <td>i left with my bouquet of red and yellow tulip...</td>\n",
       "      <td>5</td>\n",
       "    </tr>\n",
       "    <tr>\n",
       "      <th>4</th>\n",
       "      <td>i was feeling a little vain when i did this one</td>\n",
       "      <td>0</td>\n",
       "    </tr>\n",
       "  </tbody>\n",
       "</table>\n",
       "</div>"
      ],
      "text/plain": [
       "                                                text  label\n",
       "0  im feeling rather rotten so im not very ambiti...      0\n",
       "1          im updating my blog because i feel shitty      0\n",
       "2  i never make her separate from me because i do...      0\n",
       "3  i left with my bouquet of red and yellow tulip...      5\n",
       "4    i was feeling a little vain when i did this one      0"
      ]
     },
     "execution_count": 38,
     "metadata": {},
     "output_type": "execute_result"
    }
   ],
   "source": [
    "data_test['label'] = data_test['label'].map(classes_enc)\n",
    "data_test.head()"
   ]
  },
  {
   "cell_type": "code",
   "execution_count": 39,
   "metadata": {},
   "outputs": [],
   "source": [
    "# model 1 with Glove embedding to weights\n",
    "model = Sequential()\n",
    "emb = Embedding(vocab_size, 300, weights=[embed_matrix], input_length=70, trainable=False)\n",
    "model.add(emb)\n",
    "model.add(Flatten())\n",
    "model.add(Dense(128, activation='relu'))\n",
    "model.add(Dropout(0.2))\n",
    "model.add(Dense(64, activation='relu'))\n",
    "model.add(Dropout(0.2))\n",
    "model.add(Dense(len(training_class[0]), activation='softmax'))\n",
    "\n",
    "sgd = SGD(learning_rate=0.01)\n",
    "model.compile(loss='sparse_categorical_crossentropy', optimizer=sgd, metrics=['accuracy'])"
   ]
  },
  {
   "cell_type": "code",
   "execution_count": 40,
   "metadata": {},
   "outputs": [
    {
     "name": "stdout",
     "output_type": "stream",
     "text": [
      "Model: \"sequential\"\n",
      "_________________________________________________________________\n",
      " Layer (type)                Output Shape              Param #   \n",
      "=================================================================\n",
      " embedding (Embedding)       (None, 70, 300)           4040700   \n",
      "                                                                 \n",
      " flatten (Flatten)           (None, 21000)             0         \n",
      "                                                                 \n",
      " dense (Dense)               (None, 128)               2688128   \n",
      "                                                                 \n",
      " dropout (Dropout)           (None, 128)               0         \n",
      "                                                                 \n",
      " dense_1 (Dense)             (None, 64)                8256      \n",
      "                                                                 \n",
      " dropout_1 (Dropout)         (None, 64)                0         \n",
      "                                                                 \n",
      " dense_2 (Dense)             (None, 6)                 390       \n",
      "                                                                 \n",
      "=================================================================\n",
      "Total params: 6,737,474\n",
      "Trainable params: 2,696,774\n",
      "Non-trainable params: 4,040,700\n",
      "_________________________________________________________________\n",
      "None\n"
     ]
    }
   ],
   "source": [
    "# model summary\n",
    "print(model.summary())"
   ]
  },
  {
   "cell_type": "code",
   "execution_count": 41,
   "metadata": {},
   "outputs": [],
   "source": [
    "training_padded = np.array(pad_docs)\n",
    "training_labels = np.array(training_class)\n",
    "testing_padded = np.array(pad_docs_testing)\n",
    "testing_labels = np.array(testing_class)"
   ]
  },
  {
   "cell_type": "code",
   "execution_count": 42,
   "metadata": {},
   "outputs": [
    {
     "name": "stdout",
     "output_type": "stream",
     "text": [
      "(16000, 70)\n",
      "(16000, 6)\n",
      "(2000, 70)\n",
      "(2000, 6)\n"
     ]
    }
   ],
   "source": [
    "print(training_padded.shape)\n",
    "print(training_labels.shape)\n",
    "print(testing_padded.shape)\n",
    "print(testing_labels.shape)"
   ]
  },
  {
   "cell_type": "code",
   "execution_count": 43,
   "metadata": {},
   "outputs": [],
   "source": [
    "training_labels_enc = data_train['label']\n",
    "testing_labels_enc = data_test['label']"
   ]
  },
  {
   "cell_type": "code",
   "execution_count": 44,
   "metadata": {},
   "outputs": [
    {
     "name": "stdout",
     "output_type": "stream",
     "text": [
      "Epoch 1/150\n",
      "534/534 [==============================] - 13s 19ms/step - loss: 1.4883 - accuracy: 0.4296 - val_loss: 1.3214 - val_accuracy: 0.5005\n",
      "Epoch 2/150\n",
      "534/534 [==============================] - 10s 19ms/step - loss: 1.2429 - accuracy: 0.5378 - val_loss: 1.1349 - val_accuracy: 0.5730\n",
      "Epoch 3/150\n",
      "534/534 [==============================] - 10s 19ms/step - loss: 1.0759 - accuracy: 0.6059 - val_loss: 1.0606 - val_accuracy: 0.5995\n",
      "Epoch 4/150\n",
      "534/534 [==============================] - 10s 19ms/step - loss: 0.9467 - accuracy: 0.6572 - val_loss: 1.0245 - val_accuracy: 0.6275\n",
      "Epoch 5/150\n",
      "534/534 [==============================] - 10s 19ms/step - loss: 0.8368 - accuracy: 0.7023 - val_loss: 1.0078 - val_accuracy: 0.6340\n",
      "Epoch 6/150\n",
      "534/534 [==============================] - 10s 19ms/step - loss: 0.7508 - accuracy: 0.7288 - val_loss: 1.0016 - val_accuracy: 0.6400\n",
      "Epoch 7/150\n",
      "534/534 [==============================] - 10s 19ms/step - loss: 0.6677 - accuracy: 0.7650 - val_loss: 1.0036 - val_accuracy: 0.6325\n",
      "Epoch 8/150\n",
      "534/534 [==============================] - 10s 19ms/step - loss: 0.5954 - accuracy: 0.7912 - val_loss: 0.9669 - val_accuracy: 0.6515\n",
      "Epoch 9/150\n",
      "534/534 [==============================] - 11s 20ms/step - loss: 0.5267 - accuracy: 0.8192 - val_loss: 0.9794 - val_accuracy: 0.6570\n",
      "Epoch 10/150\n",
      "534/534 [==============================] - 11s 20ms/step - loss: 0.4650 - accuracy: 0.8401 - val_loss: 1.0086 - val_accuracy: 0.6575\n",
      "Epoch 11/150\n",
      "534/534 [==============================] - 10s 19ms/step - loss: 0.4152 - accuracy: 0.8594 - val_loss: 1.0156 - val_accuracy: 0.6615\n",
      "Epoch 12/150\n",
      "534/534 [==============================] - 10s 19ms/step - loss: 0.3624 - accuracy: 0.8806 - val_loss: 1.0709 - val_accuracy: 0.6495\n",
      "Epoch 13/150\n",
      "534/534 [==============================] - 10s 19ms/step - loss: 0.3225 - accuracy: 0.8956 - val_loss: 1.0610 - val_accuracy: 0.6600\n",
      "Epoch 14/150\n",
      "534/534 [==============================] - 10s 19ms/step - loss: 0.2818 - accuracy: 0.9097 - val_loss: 1.1701 - val_accuracy: 0.6355\n",
      "Epoch 15/150\n",
      "534/534 [==============================] - 10s 19ms/step - loss: 0.2524 - accuracy: 0.9216 - val_loss: 1.1651 - val_accuracy: 0.6660\n",
      "Epoch 16/150\n",
      "534/534 [==============================] - 10s 19ms/step - loss: 0.2203 - accuracy: 0.9331 - val_loss: 1.1529 - val_accuracy: 0.6610\n",
      "Epoch 17/150\n",
      "534/534 [==============================] - 10s 19ms/step - loss: 0.2030 - accuracy: 0.9389 - val_loss: 1.1234 - val_accuracy: 0.6695\n",
      "Epoch 18/150\n",
      "534/534 [==============================] - 10s 19ms/step - loss: 0.1833 - accuracy: 0.9439 - val_loss: 1.1923 - val_accuracy: 0.6675\n",
      "Epoch 19/150\n",
      "534/534 [==============================] - 10s 19ms/step - loss: 0.1619 - accuracy: 0.9537 - val_loss: 1.2460 - val_accuracy: 0.6630\n",
      "Epoch 20/150\n",
      "534/534 [==============================] - 10s 19ms/step - loss: 0.1438 - accuracy: 0.9589 - val_loss: 1.2338 - val_accuracy: 0.6780\n",
      "Epoch 21/150\n",
      "534/534 [==============================] - 10s 19ms/step - loss: 0.1355 - accuracy: 0.9630 - val_loss: 1.2237 - val_accuracy: 0.6715\n",
      "Epoch 22/150\n",
      "534/534 [==============================] - 10s 20ms/step - loss: 0.1197 - accuracy: 0.9680 - val_loss: 1.2973 - val_accuracy: 0.6705\n",
      "Epoch 23/150\n",
      "534/534 [==============================] - 10s 19ms/step - loss: 0.1123 - accuracy: 0.9706 - val_loss: 1.3103 - val_accuracy: 0.6720\n",
      "Epoch 24/150\n",
      "534/534 [==============================] - 10s 19ms/step - loss: 0.1008 - accuracy: 0.9726 - val_loss: 1.3423 - val_accuracy: 0.6700\n",
      "Epoch 25/150\n",
      "534/534 [==============================] - 10s 19ms/step - loss: 0.0956 - accuracy: 0.9741 - val_loss: 1.3376 - val_accuracy: 0.6665\n",
      "Epoch 26/150\n",
      "534/534 [==============================] - 10s 19ms/step - loss: 0.0892 - accuracy: 0.9755 - val_loss: 1.5090 - val_accuracy: 0.6360\n",
      "Epoch 27/150\n",
      "534/534 [==============================] - 10s 19ms/step - loss: 0.0848 - accuracy: 0.9779 - val_loss: 1.3685 - val_accuracy: 0.6570\n",
      "Epoch 28/150\n",
      "534/534 [==============================] - 10s 19ms/step - loss: 0.0760 - accuracy: 0.9806 - val_loss: 1.6258 - val_accuracy: 0.6330\n",
      "Epoch 29/150\n",
      "534/534 [==============================] - 10s 19ms/step - loss: 0.0756 - accuracy: 0.9806 - val_loss: 1.4093 - val_accuracy: 0.6685\n",
      "Epoch 30/150\n",
      "534/534 [==============================] - 10s 19ms/step - loss: 0.0668 - accuracy: 0.9824 - val_loss: 1.4084 - val_accuracy: 0.6665\n",
      "Epoch 31/150\n",
      "534/534 [==============================] - 10s 19ms/step - loss: 0.0643 - accuracy: 0.9831 - val_loss: 1.4273 - val_accuracy: 0.6630\n",
      "Epoch 32/150\n",
      "534/534 [==============================] - 10s 19ms/step - loss: 0.0623 - accuracy: 0.9839 - val_loss: 1.4548 - val_accuracy: 0.6600\n",
      "Epoch 33/150\n",
      "534/534 [==============================] - 10s 19ms/step - loss: 0.0572 - accuracy: 0.9848 - val_loss: 1.4748 - val_accuracy: 0.6780\n",
      "Epoch 34/150\n",
      "534/534 [==============================] - 10s 19ms/step - loss: 0.0546 - accuracy: 0.9863 - val_loss: 1.5126 - val_accuracy: 0.6635\n",
      "Epoch 35/150\n",
      "534/534 [==============================] - 10s 19ms/step - loss: 0.0529 - accuracy: 0.9864 - val_loss: 1.4905 - val_accuracy: 0.6740\n",
      "Epoch 36/150\n",
      "534/534 [==============================] - 11s 20ms/step - loss: 0.0473 - accuracy: 0.9891 - val_loss: 1.5229 - val_accuracy: 0.6690\n",
      "Epoch 37/150\n",
      "534/534 [==============================] - 10s 19ms/step - loss: 0.0475 - accuracy: 0.9879 - val_loss: 1.5252 - val_accuracy: 0.6720\n",
      "Epoch 38/150\n",
      "534/534 [==============================] - 11s 20ms/step - loss: 0.0481 - accuracy: 0.9877 - val_loss: 1.4873 - val_accuracy: 0.6705\n",
      "Epoch 39/150\n",
      "534/534 [==============================] - 10s 19ms/step - loss: 0.0440 - accuracy: 0.9887 - val_loss: 1.5597 - val_accuracy: 0.6755\n",
      "Epoch 40/150\n",
      "534/534 [==============================] - 11s 20ms/step - loss: 0.0422 - accuracy: 0.9901 - val_loss: 1.5163 - val_accuracy: 0.6685\n",
      "Epoch 41/150\n",
      "534/534 [==============================] - 11s 20ms/step - loss: 0.0437 - accuracy: 0.9891 - val_loss: 1.5733 - val_accuracy: 0.6705\n",
      "Epoch 42/150\n",
      "534/534 [==============================] - 11s 20ms/step - loss: 0.0392 - accuracy: 0.9900 - val_loss: 1.5931 - val_accuracy: 0.6610\n",
      "Epoch 43/150\n",
      "534/534 [==============================] - 11s 20ms/step - loss: 0.0387 - accuracy: 0.9894 - val_loss: 1.5584 - val_accuracy: 0.6715\n",
      "Epoch 44/150\n",
      "534/534 [==============================] - 10s 19ms/step - loss: 0.0386 - accuracy: 0.9912 - val_loss: 1.5945 - val_accuracy: 0.6650\n",
      "Epoch 45/150\n",
      "534/534 [==============================] - 10s 20ms/step - loss: 0.0358 - accuracy: 0.9914 - val_loss: 1.5805 - val_accuracy: 0.6675\n",
      "Epoch 46/150\n",
      "534/534 [==============================] - 10s 20ms/step - loss: 0.0389 - accuracy: 0.9900 - val_loss: 1.5718 - val_accuracy: 0.6700\n",
      "Epoch 47/150\n",
      "534/534 [==============================] - 11s 20ms/step - loss: 0.0353 - accuracy: 0.9916 - val_loss: 1.6950 - val_accuracy: 0.6565\n",
      "Epoch 48/150\n",
      "534/534 [==============================] - 11s 20ms/step - loss: 0.0363 - accuracy: 0.9911 - val_loss: 1.6615 - val_accuracy: 0.6740\n",
      "Epoch 49/150\n",
      "534/534 [==============================] - 10s 19ms/step - loss: 0.0351 - accuracy: 0.9904 - val_loss: 1.6633 - val_accuracy: 0.6750\n",
      "Epoch 50/150\n",
      "534/534 [==============================] - 10s 19ms/step - loss: 0.0312 - accuracy: 0.9918 - val_loss: 1.6796 - val_accuracy: 0.6685\n",
      "Epoch 51/150\n",
      "534/534 [==============================] - 10s 19ms/step - loss: 0.0315 - accuracy: 0.9921 - val_loss: 1.6628 - val_accuracy: 0.6745\n",
      "Epoch 52/150\n",
      "534/534 [==============================] - 10s 20ms/step - loss: 0.0305 - accuracy: 0.9923 - val_loss: 1.6840 - val_accuracy: 0.6805\n",
      "Epoch 53/150\n",
      "534/534 [==============================] - 10s 20ms/step - loss: 0.0300 - accuracy: 0.9926 - val_loss: 1.6693 - val_accuracy: 0.6765\n",
      "Epoch 54/150\n",
      "534/534 [==============================] - 10s 20ms/step - loss: 0.0274 - accuracy: 0.9934 - val_loss: 1.7057 - val_accuracy: 0.6835\n",
      "Epoch 55/150\n",
      "534/534 [==============================] - 10s 19ms/step - loss: 0.0286 - accuracy: 0.9930 - val_loss: 1.6506 - val_accuracy: 0.6725\n",
      "Epoch 56/150\n",
      "534/534 [==============================] - 10s 19ms/step - loss: 0.0259 - accuracy: 0.9931 - val_loss: 1.6758 - val_accuracy: 0.6795\n",
      "Epoch 57/150\n",
      "534/534 [==============================] - 9s 17ms/step - loss: 0.0274 - accuracy: 0.9929 - val_loss: 1.7221 - val_accuracy: 0.6775\n",
      "Epoch 58/150\n",
      "534/534 [==============================] - 9s 17ms/step - loss: 0.0294 - accuracy: 0.9916 - val_loss: 1.6824 - val_accuracy: 0.6725\n",
      "Epoch 59/150\n",
      "534/534 [==============================] - 9s 17ms/step - loss: 0.0275 - accuracy: 0.9925 - val_loss: 1.7067 - val_accuracy: 0.6750\n",
      "Epoch 60/150\n",
      "534/534 [==============================] - 9s 17ms/step - loss: 0.0246 - accuracy: 0.9938 - val_loss: 1.7511 - val_accuracy: 0.6790\n",
      "Epoch 61/150\n",
      "534/534 [==============================] - 9s 18ms/step - loss: 0.0246 - accuracy: 0.9933 - val_loss: 1.7004 - val_accuracy: 0.6745\n",
      "Epoch 62/150\n",
      "534/534 [==============================] - 9s 17ms/step - loss: 0.0244 - accuracy: 0.9936 - val_loss: 1.7384 - val_accuracy: 0.6720\n",
      "Epoch 63/150\n",
      "534/534 [==============================] - 9s 17ms/step - loss: 0.0256 - accuracy: 0.9931 - val_loss: 1.7070 - val_accuracy: 0.6735\n",
      "Epoch 64/150\n",
      "534/534 [==============================] - 9s 17ms/step - loss: 0.0210 - accuracy: 0.9946 - val_loss: 1.7273 - val_accuracy: 0.6785\n",
      "Epoch 65/150\n",
      "534/534 [==============================] - 9s 18ms/step - loss: 0.0220 - accuracy: 0.9939 - val_loss: 1.7769 - val_accuracy: 0.6805\n",
      "Epoch 66/150\n",
      "534/534 [==============================] - 9s 17ms/step - loss: 0.0236 - accuracy: 0.9935 - val_loss: 1.8405 - val_accuracy: 0.6810\n",
      "Epoch 67/150\n",
      "534/534 [==============================] - 9s 17ms/step - loss: 0.0231 - accuracy: 0.9937 - val_loss: 1.7283 - val_accuracy: 0.6765\n",
      "Epoch 68/150\n",
      "534/534 [==============================] - 10s 18ms/step - loss: 0.0222 - accuracy: 0.9941 - val_loss: 1.7630 - val_accuracy: 0.6705\n",
      "Epoch 69/150\n",
      "534/534 [==============================] - 9s 18ms/step - loss: 0.0193 - accuracy: 0.9952 - val_loss: 1.8182 - val_accuracy: 0.6800\n",
      "Epoch 70/150\n",
      "534/534 [==============================] - 10s 18ms/step - loss: 0.0224 - accuracy: 0.9940 - val_loss: 1.7788 - val_accuracy: 0.6800\n",
      "Epoch 71/150\n",
      "534/534 [==============================] - 9s 17ms/step - loss: 0.0222 - accuracy: 0.9936 - val_loss: 1.7276 - val_accuracy: 0.6810\n",
      "Epoch 72/150\n",
      "534/534 [==============================] - 9s 17ms/step - loss: 0.0184 - accuracy: 0.9953 - val_loss: 1.8250 - val_accuracy: 0.6870\n",
      "Epoch 73/150\n",
      "534/534 [==============================] - 9s 17ms/step - loss: 0.0208 - accuracy: 0.9942 - val_loss: 1.7647 - val_accuracy: 0.6775\n",
      "Epoch 74/150\n",
      "534/534 [==============================] - 9s 18ms/step - loss: 0.0189 - accuracy: 0.9950 - val_loss: 1.8560 - val_accuracy: 0.6860\n",
      "Epoch 75/150\n",
      "534/534 [==============================] - 9s 17ms/step - loss: 0.0200 - accuracy: 0.9943 - val_loss: 1.8028 - val_accuracy: 0.6890\n",
      "Epoch 76/150\n",
      "534/534 [==============================] - 10s 18ms/step - loss: 0.0196 - accuracy: 0.9948 - val_loss: 1.8009 - val_accuracy: 0.6795\n",
      "Epoch 77/150\n",
      "534/534 [==============================] - 10s 19ms/step - loss: 0.0183 - accuracy: 0.9946 - val_loss: 1.8017 - val_accuracy: 0.6740\n",
      "Epoch 78/150\n",
      "534/534 [==============================] - 10s 19ms/step - loss: 0.0188 - accuracy: 0.9942 - val_loss: 1.8252 - val_accuracy: 0.6770\n",
      "Epoch 79/150\n",
      "534/534 [==============================] - 9s 18ms/step - loss: 0.0190 - accuracy: 0.9942 - val_loss: 1.8416 - val_accuracy: 0.6795\n",
      "Epoch 80/150\n",
      "534/534 [==============================] - 9s 17ms/step - loss: 0.0182 - accuracy: 0.9948 - val_loss: 1.8363 - val_accuracy: 0.6760\n",
      "Epoch 81/150\n",
      "534/534 [==============================] - 10s 18ms/step - loss: 0.0182 - accuracy: 0.9941 - val_loss: 1.8572 - val_accuracy: 0.6745\n",
      "Epoch 82/150\n",
      "534/534 [==============================] - 9s 17ms/step - loss: 0.0188 - accuracy: 0.9948 - val_loss: 1.8504 - val_accuracy: 0.6775\n",
      "Epoch 83/150\n",
      "534/534 [==============================] - 9s 17ms/step - loss: 0.0166 - accuracy: 0.9954 - val_loss: 1.9142 - val_accuracy: 0.6815\n",
      "Epoch 84/150\n",
      "534/534 [==============================] - 10s 19ms/step - loss: 0.0193 - accuracy: 0.9942 - val_loss: 1.8794 - val_accuracy: 0.6775\n",
      "Epoch 85/150\n",
      "534/534 [==============================] - 10s 19ms/step - loss: 0.0178 - accuracy: 0.9949 - val_loss: 1.8674 - val_accuracy: 0.6705\n",
      "Epoch 86/150\n",
      "534/534 [==============================] - 9s 18ms/step - loss: 0.0186 - accuracy: 0.9948 - val_loss: 1.8193 - val_accuracy: 0.6755\n",
      "Epoch 87/150\n",
      "534/534 [==============================] - 10s 18ms/step - loss: 0.0165 - accuracy: 0.9946 - val_loss: 1.8799 - val_accuracy: 0.6735\n",
      "Epoch 88/150\n",
      "534/534 [==============================] - 10s 18ms/step - loss: 0.0158 - accuracy: 0.9960 - val_loss: 1.8935 - val_accuracy: 0.6760\n",
      "Epoch 89/150\n",
      "534/534 [==============================] - 9s 18ms/step - loss: 0.0183 - accuracy: 0.9949 - val_loss: 1.9144 - val_accuracy: 0.6715\n",
      "Epoch 90/150\n",
      "534/534 [==============================] - 9s 17ms/step - loss: 0.0174 - accuracy: 0.9951 - val_loss: 1.8803 - val_accuracy: 0.6775\n",
      "Epoch 91/150\n",
      "534/534 [==============================] - 9s 17ms/step - loss: 0.0167 - accuracy: 0.9951 - val_loss: 1.8686 - val_accuracy: 0.6775\n",
      "Epoch 92/150\n",
      "534/534 [==============================] - 9s 17ms/step - loss: 0.0190 - accuracy: 0.9937 - val_loss: 1.8317 - val_accuracy: 0.6765\n",
      "Epoch 93/150\n",
      "534/534 [==============================] - 9s 17ms/step - loss: 0.0166 - accuracy: 0.9949 - val_loss: 1.9331 - val_accuracy: 0.6765\n",
      "Epoch 94/150\n",
      "534/534 [==============================] - 10s 18ms/step - loss: 0.0163 - accuracy: 0.9954 - val_loss: 1.9035 - val_accuracy: 0.6760\n",
      "Epoch 95/150\n",
      "534/534 [==============================] - 12s 22ms/step - loss: 0.0172 - accuracy: 0.9946 - val_loss: 1.8626 - val_accuracy: 0.6775\n",
      "Epoch 96/150\n",
      "534/534 [==============================] - 10s 19ms/step - loss: 0.0147 - accuracy: 0.9956 - val_loss: 1.9039 - val_accuracy: 0.6810\n",
      "Epoch 97/150\n",
      "534/534 [==============================] - 10s 19ms/step - loss: 0.0167 - accuracy: 0.9950 - val_loss: 1.8912 - val_accuracy: 0.6820\n",
      "Epoch 98/150\n",
      "534/534 [==============================] - 10s 19ms/step - loss: 0.0161 - accuracy: 0.9956 - val_loss: 1.8681 - val_accuracy: 0.6720\n",
      "Epoch 99/150\n",
      "534/534 [==============================] - 11s 20ms/step - loss: 0.0156 - accuracy: 0.9951 - val_loss: 1.8940 - val_accuracy: 0.6815\n",
      "Epoch 100/150\n",
      "534/534 [==============================] - 10s 19ms/step - loss: 0.0157 - accuracy: 0.9950 - val_loss: 1.8967 - val_accuracy: 0.6805\n",
      "Epoch 101/150\n",
      "534/534 [==============================] - 11s 20ms/step - loss: 0.0152 - accuracy: 0.9954 - val_loss: 1.9228 - val_accuracy: 0.6760\n",
      "Epoch 102/150\n",
      "534/534 [==============================] - 10s 19ms/step - loss: 0.0139 - accuracy: 0.9956 - val_loss: 1.9137 - val_accuracy: 0.6780\n",
      "Epoch 103/150\n",
      "534/534 [==============================] - 10s 19ms/step - loss: 0.0146 - accuracy: 0.9956 - val_loss: 1.9246 - val_accuracy: 0.6840\n",
      "Epoch 104/150\n",
      "534/534 [==============================] - 10s 19ms/step - loss: 0.0147 - accuracy: 0.9957 - val_loss: 1.8989 - val_accuracy: 0.6760\n",
      "Epoch 105/150\n",
      "534/534 [==============================] - 10s 20ms/step - loss: 0.0145 - accuracy: 0.9954 - val_loss: 1.8959 - val_accuracy: 0.6725\n",
      "Epoch 106/150\n",
      "534/534 [==============================] - 10s 19ms/step - loss: 0.0143 - accuracy: 0.9959 - val_loss: 1.9140 - val_accuracy: 0.6780\n",
      "Epoch 107/150\n",
      "534/534 [==============================] - 11s 20ms/step - loss: 0.0146 - accuracy: 0.9955 - val_loss: 1.9717 - val_accuracy: 0.6885\n",
      "Epoch 108/150\n",
      "534/534 [==============================] - 10s 19ms/step - loss: 0.0140 - accuracy: 0.9957 - val_loss: 1.9121 - val_accuracy: 0.6805\n",
      "Epoch 109/150\n",
      "534/534 [==============================] - 10s 19ms/step - loss: 0.0134 - accuracy: 0.9959 - val_loss: 1.9106 - val_accuracy: 0.6760\n",
      "Epoch 110/150\n",
      "534/534 [==============================] - 10s 19ms/step - loss: 0.0133 - accuracy: 0.9961 - val_loss: 1.9602 - val_accuracy: 0.6865\n",
      "Epoch 111/150\n",
      "534/534 [==============================] - 10s 19ms/step - loss: 0.0147 - accuracy: 0.9961 - val_loss: 1.9476 - val_accuracy: 0.6780\n",
      "Epoch 112/150\n",
      "534/534 [==============================] - 10s 19ms/step - loss: 0.0134 - accuracy: 0.9956 - val_loss: 1.9329 - val_accuracy: 0.6750\n",
      "Epoch 113/150\n"
     ]
    },
    {
     "name": "stdout",
     "output_type": "stream",
     "text": [
      "534/534 [==============================] - 9s 17ms/step - loss: 0.0130 - accuracy: 0.9964 - val_loss: 1.9338 - val_accuracy: 0.6770\n",
      "Epoch 114/150\n",
      "534/534 [==============================] - 9s 18ms/step - loss: 0.0141 - accuracy: 0.9959 - val_loss: 1.9393 - val_accuracy: 0.6770\n",
      "Epoch 115/150\n",
      "534/534 [==============================] - 9s 17ms/step - loss: 0.0136 - accuracy: 0.9961 - val_loss: 1.9835 - val_accuracy: 0.6775\n",
      "Epoch 116/150\n",
      "534/534 [==============================] - 9s 17ms/step - loss: 0.0143 - accuracy: 0.9956 - val_loss: 1.9134 - val_accuracy: 0.6765\n",
      "Epoch 117/150\n",
      "534/534 [==============================] - 9s 17ms/step - loss: 0.0133 - accuracy: 0.9957 - val_loss: 1.9388 - val_accuracy: 0.6805\n",
      "Epoch 118/150\n",
      "534/534 [==============================] - 9s 17ms/step - loss: 0.0136 - accuracy: 0.9958 - val_loss: 1.9683 - val_accuracy: 0.6855\n",
      "Epoch 119/150\n",
      "534/534 [==============================] - 10s 18ms/step - loss: 0.0136 - accuracy: 0.9959 - val_loss: 1.9720 - val_accuracy: 0.6810\n",
      "Epoch 120/150\n",
      "534/534 [==============================] - 9s 17ms/step - loss: 0.0141 - accuracy: 0.9956 - val_loss: 1.9699 - val_accuracy: 0.6780\n",
      "Epoch 121/150\n",
      "534/534 [==============================] - 10s 18ms/step - loss: 0.0134 - accuracy: 0.9954 - val_loss: 1.9542 - val_accuracy: 0.6860\n",
      "Epoch 122/150\n",
      "534/534 [==============================] - 9s 17ms/step - loss: 0.0147 - accuracy: 0.9949 - val_loss: 1.9258 - val_accuracy: 0.6850\n",
      "Epoch 123/150\n",
      "534/534 [==============================] - 9s 17ms/step - loss: 0.0121 - accuracy: 0.9966 - val_loss: 1.9992 - val_accuracy: 0.6730\n",
      "Epoch 124/150\n",
      "534/534 [==============================] - 9s 17ms/step - loss: 0.0117 - accuracy: 0.9958 - val_loss: 2.0212 - val_accuracy: 0.6805\n",
      "Epoch 125/150\n",
      "534/534 [==============================] - 9s 17ms/step - loss: 0.0115 - accuracy: 0.9962 - val_loss: 1.9778 - val_accuracy: 0.6790\n",
      "Epoch 126/150\n",
      "534/534 [==============================] - 9s 18ms/step - loss: 0.0120 - accuracy: 0.9959 - val_loss: 2.0157 - val_accuracy: 0.6810\n",
      "Epoch 127/150\n",
      "534/534 [==============================] - 9s 17ms/step - loss: 0.0117 - accuracy: 0.9962 - val_loss: 1.9777 - val_accuracy: 0.6740\n",
      "Epoch 128/150\n",
      "534/534 [==============================] - 9s 18ms/step - loss: 0.0119 - accuracy: 0.9963 - val_loss: 1.9604 - val_accuracy: 0.6745\n",
      "Epoch 129/150\n",
      "534/534 [==============================] - 10s 18ms/step - loss: 0.0124 - accuracy: 0.9961 - val_loss: 2.0280 - val_accuracy: 0.6750\n",
      "Epoch 130/150\n",
      "534/534 [==============================] - 9s 18ms/step - loss: 0.0120 - accuracy: 0.9960 - val_loss: 1.9518 - val_accuracy: 0.6795\n",
      "Epoch 131/150\n",
      "534/534 [==============================] - 10s 18ms/step - loss: 0.0131 - accuracy: 0.9956 - val_loss: 2.0161 - val_accuracy: 0.6770\n",
      "Epoch 132/150\n",
      "534/534 [==============================] - 10s 19ms/step - loss: 0.0114 - accuracy: 0.9964 - val_loss: 2.0108 - val_accuracy: 0.6800\n",
      "Epoch 133/150\n",
      "534/534 [==============================] - 10s 18ms/step - loss: 0.0123 - accuracy: 0.9959 - val_loss: 2.0492 - val_accuracy: 0.6830\n",
      "Epoch 134/150\n",
      "534/534 [==============================] - 9s 17ms/step - loss: 0.0119 - accuracy: 0.9961 - val_loss: 2.0717 - val_accuracy: 0.6825\n",
      "Epoch 135/150\n",
      "534/534 [==============================] - 10s 18ms/step - loss: 0.0117 - accuracy: 0.9961 - val_loss: 2.0202 - val_accuracy: 0.6830\n",
      "Epoch 136/150\n",
      "534/534 [==============================] - 9s 17ms/step - loss: 0.0116 - accuracy: 0.9960 - val_loss: 2.0875 - val_accuracy: 0.6820\n",
      "Epoch 137/150\n",
      "534/534 [==============================] - 9s 17ms/step - loss: 0.0123 - accuracy: 0.9957 - val_loss: 2.0570 - val_accuracy: 0.6815\n",
      "Epoch 138/150\n",
      "534/534 [==============================] - 9s 18ms/step - loss: 0.0102 - accuracy: 0.9969 - val_loss: 2.0156 - val_accuracy: 0.6845\n",
      "Epoch 139/150\n",
      "534/534 [==============================] - 9s 17ms/step - loss: 0.0128 - accuracy: 0.9954 - val_loss: 2.0554 - val_accuracy: 0.6785\n",
      "Epoch 140/150\n",
      "534/534 [==============================] - 9s 18ms/step - loss: 0.0115 - accuracy: 0.9963 - val_loss: 2.0380 - val_accuracy: 0.6870\n",
      "Epoch 141/150\n",
      "534/534 [==============================] - 9s 17ms/step - loss: 0.0112 - accuracy: 0.9959 - val_loss: 2.0644 - val_accuracy: 0.6760\n",
      "Epoch 142/150\n",
      "534/534 [==============================] - 10s 18ms/step - loss: 0.0112 - accuracy: 0.9961 - val_loss: 2.0089 - val_accuracy: 0.6745\n",
      "Epoch 143/150\n",
      "534/534 [==============================] - 9s 18ms/step - loss: 0.0114 - accuracy: 0.9959 - val_loss: 2.0276 - val_accuracy: 0.6770\n",
      "Epoch 144/150\n",
      "534/534 [==============================] - 9s 17ms/step - loss: 0.0118 - accuracy: 0.9962 - val_loss: 2.0573 - val_accuracy: 0.6855\n",
      "Epoch 145/150\n",
      "534/534 [==============================] - 9s 18ms/step - loss: 0.0109 - accuracy: 0.9964 - val_loss: 2.0190 - val_accuracy: 0.6800\n",
      "Epoch 146/150\n",
      "534/534 [==============================] - 9s 18ms/step - loss: 0.0112 - accuracy: 0.9960 - val_loss: 2.0528 - val_accuracy: 0.6850\n",
      "Epoch 147/150\n",
      "534/534 [==============================] - 9s 18ms/step - loss: 0.0103 - accuracy: 0.9966 - val_loss: 2.0574 - val_accuracy: 0.6770\n",
      "Epoch 148/150\n",
      "534/534 [==============================] - 10s 19ms/step - loss: 0.0116 - accuracy: 0.9962 - val_loss: 2.0307 - val_accuracy: 0.6840\n",
      "Epoch 149/150\n",
      "534/534 [==============================] - 10s 18ms/step - loss: 0.0125 - accuracy: 0.9958 - val_loss: 2.0225 - val_accuracy: 0.6735\n",
      "Epoch 150/150\n",
      "534/534 [==============================] - 9s 18ms/step - loss: 0.0117 - accuracy: 0.9962 - val_loss: 2.0590 - val_accuracy: 0.6805\n"
     ]
    }
   ],
   "source": [
    "m = model.fit(training_padded, training_labels_enc, validation_data=(testing_padded, testing_labels_enc), epochs=150, batch_size=30, verbose=1)"
   ]
  },
  {
   "cell_type": "code",
   "execution_count": 45,
   "metadata": {},
   "outputs": [
    {
     "data": {
      "text/plain": [
       "<matplotlib.legend.Legend at 0x225547b7910>"
      ]
     },
     "execution_count": 45,
     "metadata": {},
     "output_type": "execute_result"
    },
    {
     "data": {
      "image/png": "[encoded data removed]",
      "text/plain": [
       "<Figure size 432x288 with 1 Axes>"
      ]
     },
     "metadata": {
      "needs_background": "light"
     },
     "output_type": "display_data"
    }
   ],
   "source": [
    "# Plot for loss\n",
    "plt.plot(m.history['loss'], label='loss')\n",
    "plt.plot(m.history['val_loss'], label='val_loss')\n",
    "plt.legend()"
   ]
  },
  {
   "cell_type": "code",
   "execution_count": 46,
   "metadata": {},
   "outputs": [
    {
     "data": {
      "text/plain": [
       "<matplotlib.legend.Legend at 0x225549b1be0>"
      ]
     },
     "execution_count": 46,
     "metadata": {},
     "output_type": "execute_result"
    },
    {
     "data": {
      "image/png": "[encoded data removed]",
      "text/plain": [
       "<Figure size 432x288 with 1 Axes>"
      ]
     },
     "metadata": {
      "needs_background": "light"
     },
     "output_type": "display_data"
    }
   ],
   "source": [
    "# plot for accuracy\n",
    "plt.plot(m.history['accuracy'], label='acc')\n",
    "plt.plot(m.history['val_accuracy'], label='val_acc')\n",
    "plt.legend()"
   ]
  },
  {
   "cell_type": "code",
   "execution_count": 47,
   "metadata": {},
   "outputs": [],
   "source": [
    "classes_pred = model.predict(testing_padded)"
   ]
  },
  {
   "cell_type": "code",
   "execution_count": 48,
   "metadata": {},
   "outputs": [],
   "source": [
    "testing_labels_predict = classes_pred.argmax(axis=-1)"
   ]
  },
  {
   "cell_type": "code",
   "execution_count": 49,
   "metadata": {},
   "outputs": [
    {
     "data": {
      "text/plain": [
       "array([0, 0, 0, ..., 5, 5, 2], dtype=int64)"
      ]
     },
     "execution_count": 49,
     "metadata": {},
     "output_type": "execute_result"
    }
   ],
   "source": [
    "testing_labels_predict"
   ]
  },
  {
   "cell_type": "code",
   "execution_count": 50,
   "metadata": {},
   "outputs": [],
   "source": [
    "cm = confusion_matrix(testing_labels_enc, testing_labels_predict)"
   ]
  },
  {
   "cell_type": "code",
   "execution_count": 51,
   "metadata": {},
   "outputs": [],
   "source": [
    "col = ['sadness','anger','fear', 'love', 'surprise', 'joy']"
   ]
  },
  {
   "cell_type": "code",
   "execution_count": 52,
   "metadata": {},
   "outputs": [],
   "source": [
    "cm_df = pd.DataFrame(cm,\n",
    "                     index = col, \n",
    "                     columns = col)"
   ]
  },
  {
   "cell_type": "code",
   "execution_count": 53,
   "metadata": {},
   "outputs": [
    {
     "data": {
      "image/png": "[encoded data removed]",
      "text/plain": [
       "<Figure size 720x720 with 2 Axes>"
      ]
     },
     "metadata": {
      "needs_background": "light"
     },
     "output_type": "display_data"
    }
   ],
   "source": [
    "#Plotting the confusion matrix\n",
    "plt.figure(figsize=(10,10))\n",
    "sns.heatmap(cm_df, annot=True)\n",
    "plt.title('Confusion Matrix')\n",
    "plt.ylabel('Actal Values')\n",
    "plt.xlabel('Predicted Values')\n",
    "plt.show()"
   ]
  },
  {
   "cell_type": "code",
   "execution_count": 54,
   "metadata": {},
   "outputs": [
    {
     "data": {
      "text/plain": [
       "5    695\n",
       "0    581\n",
       "1    275\n",
       "2    224\n",
       "3    159\n",
       "4     66\n",
       "Name: label, dtype: int64"
      ]
     },
     "execution_count": 54,
     "metadata": {},
     "output_type": "execute_result"
    }
   ],
   "source": [
    "data_test['label'].value_counts()"
   ]
  },
  {
   "cell_type": "code",
   "execution_count": 55,
   "metadata": {},
   "outputs": [],
   "source": [
    "# model 2 without Glove embedding to weights\n",
    "model_1 = Sequential()\n",
    "model_1.add(Embedding(vocab_size, 300, input_length=70))\n",
    "model_1.add(Flatten())\n",
    "model_1.add(Dense(128, activation='relu'))\n",
    "model_1.add(Dropout(0.2))\n",
    "model_1.add(Dense(64, activation='relu'))\n",
    "model_1.add(Dropout(0.2))\n",
    "model_1.add(Dense(len(training_class[0]), activation='softmax'))\n",
    "\n",
    "model_1.compile(loss='sparse_categorical_crossentropy', optimizer=sgd, metrics=['accuracy'])"
   ]
  },
  {
   "cell_type": "code",
   "execution_count": 56,
   "metadata": {},
   "outputs": [
    {
     "name": "stdout",
     "output_type": "stream",
     "text": [
      "Epoch 1/150\n",
      "534/534 [==============================] - 14s 25ms/step - loss: 1.6015 - accuracy: 0.3286 - val_loss: 1.5614 - val_accuracy: 0.3475\n",
      "Epoch 2/150\n",
      "534/534 [==============================] - 13s 24ms/step - loss: 1.5840 - accuracy: 0.3305 - val_loss: 1.5591 - val_accuracy: 0.3475\n",
      "Epoch 3/150\n",
      "534/534 [==============================] - 13s 25ms/step - loss: 1.5799 - accuracy: 0.3364 - val_loss: 1.5596 - val_accuracy: 0.3475\n",
      "Epoch 4/150\n",
      "534/534 [==============================] - 13s 25ms/step - loss: 1.5766 - accuracy: 0.3332 - val_loss: 1.5572 - val_accuracy: 0.3530\n",
      "Epoch 5/150\n",
      "534/534 [==============================] - 13s 25ms/step - loss: 1.5766 - accuracy: 0.3379 - val_loss: 1.5576 - val_accuracy: 0.3560\n",
      "Epoch 6/150\n",
      "534/534 [==============================] - 13s 25ms/step - loss: 1.5757 - accuracy: 0.3386 - val_loss: 1.5568 - val_accuracy: 0.3465\n",
      "Epoch 7/150\n",
      "534/534 [==============================] - 13s 25ms/step - loss: 1.5729 - accuracy: 0.3408 - val_loss: 1.5552 - val_accuracy: 0.3545\n",
      "Epoch 8/150\n",
      "534/534 [==============================] - 14s 26ms/step - loss: 1.5711 - accuracy: 0.3418 - val_loss: 1.5563 - val_accuracy: 0.3525\n",
      "Epoch 9/150\n",
      "534/534 [==============================] - 14s 26ms/step - loss: 1.5716 - accuracy: 0.3403 - val_loss: 1.5542 - val_accuracy: 0.3605\n",
      "Epoch 10/150\n",
      "534/534 [==============================] - 14s 25ms/step - loss: 1.5693 - accuracy: 0.3456 - val_loss: 1.5531 - val_accuracy: 0.3525\n",
      "Epoch 11/150\n",
      "534/534 [==============================] - 13s 25ms/step - loss: 1.5654 - accuracy: 0.3451 - val_loss: 1.5565 - val_accuracy: 0.3240\n",
      "Epoch 12/150\n",
      "534/534 [==============================] - 14s 27ms/step - loss: 1.5624 - accuracy: 0.3502 - val_loss: 1.5522 - val_accuracy: 0.3275\n",
      "Epoch 13/150\n",
      "534/534 [==============================] - 13s 25ms/step - loss: 1.5598 - accuracy: 0.3553 - val_loss: 1.5491 - val_accuracy: 0.3695\n",
      "Epoch 14/150\n",
      "534/534 [==============================] - 13s 25ms/step - loss: 1.5567 - accuracy: 0.3605 - val_loss: 1.5442 - val_accuracy: 0.3555\n",
      "Epoch 15/150\n",
      "534/534 [==============================] - 14s 26ms/step - loss: 1.5515 - accuracy: 0.3662 - val_loss: 1.5408 - val_accuracy: 0.3590\n",
      "Epoch 16/150\n",
      "534/534 [==============================] - 14s 26ms/step - loss: 1.5456 - accuracy: 0.3721 - val_loss: 1.5340 - val_accuracy: 0.3805\n",
      "Epoch 17/150\n",
      "534/534 [==============================] - 14s 26ms/step - loss: 1.5376 - accuracy: 0.3789 - val_loss: 1.5266 - val_accuracy: 0.3860\n",
      "Epoch 18/150\n",
      "534/534 [==============================] - 14s 26ms/step - loss: 1.5272 - accuracy: 0.3867 - val_loss: 1.5160 - val_accuracy: 0.3990\n",
      "Epoch 19/150\n",
      "534/534 [==============================] - 14s 27ms/step - loss: 1.5109 - accuracy: 0.4072 - val_loss: 1.5002 - val_accuracy: 0.3970\n",
      "Epoch 20/150\n",
      "534/534 [==============================] - 14s 26ms/step - loss: 1.4869 - accuracy: 0.4286 - val_loss: 1.4777 - val_accuracy: 0.4525\n",
      "Epoch 21/150\n",
      "534/534 [==============================] - 13s 25ms/step - loss: 1.4478 - accuracy: 0.4576 - val_loss: 1.4454 - val_accuracy: 0.4470\n",
      "Epoch 22/150\n",
      "534/534 [==============================] - 14s 26ms/step - loss: 1.3893 - accuracy: 0.4966 - val_loss: 1.3699 - val_accuracy: 0.5075\n",
      "Epoch 23/150\n",
      "534/534 [==============================] - 14s 26ms/step - loss: 1.3075 - accuracy: 0.5283 - val_loss: 1.2936 - val_accuracy: 0.5330\n",
      "Epoch 24/150\n",
      "534/534 [==============================] - 14s 26ms/step - loss: 1.2133 - accuracy: 0.5579 - val_loss: 1.2136 - val_accuracy: 0.5395\n",
      "Epoch 25/150\n",
      "534/534 [==============================] - 14s 27ms/step - loss: 1.1268 - accuracy: 0.5796 - val_loss: 1.1256 - val_accuracy: 0.5700\n",
      "Epoch 26/150\n",
      "534/534 [==============================] - 16s 29ms/step - loss: 1.0366 - accuracy: 0.6028 - val_loss: 1.0513 - val_accuracy: 0.5830\n",
      "Epoch 27/150\n",
      "534/534 [==============================] - 15s 28ms/step - loss: 0.9532 - accuracy: 0.6356 - val_loss: 0.9877 - val_accuracy: 0.6215\n",
      "Epoch 28/150\n",
      "534/534 [==============================] - 15s 27ms/step - loss: 0.8658 - accuracy: 0.6880 - val_loss: 0.9040 - val_accuracy: 0.6920\n",
      "Epoch 29/150\n",
      "534/534 [==============================] - 14s 26ms/step - loss: 0.7775 - accuracy: 0.7419 - val_loss: 0.8358 - val_accuracy: 0.7015\n",
      "Epoch 30/150\n",
      "534/534 [==============================] - 14s 26ms/step - loss: 0.6953 - accuracy: 0.7779 - val_loss: 0.8598 - val_accuracy: 0.7040\n",
      "Epoch 31/150\n",
      "534/534 [==============================] - 14s 26ms/step - loss: 0.6247 - accuracy: 0.8090 - val_loss: 0.7577 - val_accuracy: 0.7390\n",
      "Epoch 32/150\n",
      "534/534 [==============================] - 15s 27ms/step - loss: 0.5652 - accuracy: 0.8276 - val_loss: 0.7141 - val_accuracy: 0.7550\n",
      "Epoch 33/150\n",
      "534/534 [==============================] - 17s 31ms/step - loss: 0.5061 - accuracy: 0.8512 - val_loss: 0.6731 - val_accuracy: 0.7715\n",
      "Epoch 34/150\n",
      "534/534 [==============================] - 15s 29ms/step - loss: 0.4689 - accuracy: 0.8625 - val_loss: 0.6656 - val_accuracy: 0.7830\n",
      "Epoch 35/150\n",
      "534/534 [==============================] - 16s 30ms/step - loss: 0.4241 - accuracy: 0.8760 - val_loss: 0.6354 - val_accuracy: 0.7915\n",
      "Epoch 36/150\n",
      "534/534 [==============================] - 15s 27ms/step - loss: 0.3865 - accuracy: 0.8874 - val_loss: 0.6000 - val_accuracy: 0.7960\n",
      "Epoch 37/150\n",
      "534/534 [==============================] - 15s 27ms/step - loss: 0.3554 - accuracy: 0.8961 - val_loss: 0.6573 - val_accuracy: 0.7795\n",
      "Epoch 38/150\n",
      "534/534 [==============================] - 13s 25ms/step - loss: 0.3253 - accuracy: 0.9049 - val_loss: 0.6228 - val_accuracy: 0.7945\n",
      "Epoch 39/150\n",
      "534/534 [==============================] - 12s 23ms/step - loss: 0.2925 - accuracy: 0.9152 - val_loss: 0.5848 - val_accuracy: 0.8065\n",
      "Epoch 40/150\n",
      "534/534 [==============================] - 13s 24ms/step - loss: 0.2753 - accuracy: 0.9204 - val_loss: 0.6431 - val_accuracy: 0.7940\n",
      "Epoch 41/150\n",
      "534/534 [==============================] - 15s 28ms/step - loss: 0.2493 - accuracy: 0.9271 - val_loss: 0.5832 - val_accuracy: 0.8110\n",
      "Epoch 42/150\n",
      "534/534 [==============================] - 14s 26ms/step - loss: 0.2275 - accuracy: 0.9354 - val_loss: 0.5580 - val_accuracy: 0.8185\n",
      "Epoch 43/150\n",
      "534/534 [==============================] - 13s 25ms/step - loss: 0.2115 - accuracy: 0.9414 - val_loss: 0.5639 - val_accuracy: 0.8115\n",
      "Epoch 44/150\n",
      "534/534 [==============================] - 14s 26ms/step - loss: 0.1882 - accuracy: 0.9472 - val_loss: 0.5546 - val_accuracy: 0.8205\n",
      "Epoch 45/150\n",
      "534/534 [==============================] - 14s 26ms/step - loss: 0.1721 - accuracy: 0.9536 - val_loss: 0.5541 - val_accuracy: 0.8245\n",
      "Epoch 46/150\n",
      "534/534 [==============================] - 14s 25ms/step - loss: 0.1681 - accuracy: 0.9558 - val_loss: 0.5737 - val_accuracy: 0.8280\n",
      "Epoch 47/150\n",
      "534/534 [==============================] - 14s 27ms/step - loss: 0.1470 - accuracy: 0.9636 - val_loss: 0.5822 - val_accuracy: 0.8295\n",
      "Epoch 48/150\n",
      "534/534 [==============================] - 13s 25ms/step - loss: 0.1374 - accuracy: 0.9656 - val_loss: 0.5832 - val_accuracy: 0.8380\n",
      "Epoch 49/150\n",
      "534/534 [==============================] - 14s 26ms/step - loss: 0.1271 - accuracy: 0.9689 - val_loss: 0.5727 - val_accuracy: 0.8300\n",
      "Epoch 50/150\n",
      "534/534 [==============================] - 14s 26ms/step - loss: 0.1150 - accuracy: 0.9725 - val_loss: 0.5952 - val_accuracy: 0.8355\n",
      "Epoch 51/150\n",
      "534/534 [==============================] - 13s 25ms/step - loss: 0.1071 - accuracy: 0.9744 - val_loss: 0.6343 - val_accuracy: 0.8255\n",
      "Epoch 52/150\n",
      "534/534 [==============================] - 14s 26ms/step - loss: 0.1018 - accuracy: 0.9749 - val_loss: 0.5842 - val_accuracy: 0.8300\n",
      "Epoch 53/150\n",
      "534/534 [==============================] - 14s 25ms/step - loss: 0.0935 - accuracy: 0.9788 - val_loss: 0.5971 - val_accuracy: 0.8370\n",
      "Epoch 54/150\n",
      "534/534 [==============================] - 14s 26ms/step - loss: 0.0878 - accuracy: 0.9796 - val_loss: 0.6007 - val_accuracy: 0.8360\n",
      "Epoch 55/150\n",
      "534/534 [==============================] - 13s 25ms/step - loss: 0.0861 - accuracy: 0.9809 - val_loss: 0.6528 - val_accuracy: 0.8140\n",
      "Epoch 56/150\n",
      "534/534 [==============================] - 14s 26ms/step - loss: 0.0804 - accuracy: 0.9827 - val_loss: 0.6351 - val_accuracy: 0.8375\n",
      "Epoch 57/150\n",
      "534/534 [==============================] - 13s 24ms/step - loss: 0.0740 - accuracy: 0.9839 - val_loss: 0.6245 - val_accuracy: 0.8390\n",
      "Epoch 58/150\n",
      "534/534 [==============================] - 13s 23ms/step - loss: 0.0742 - accuracy: 0.9844 - val_loss: 0.6268 - val_accuracy: 0.8340\n",
      "Epoch 59/150\n",
      "534/534 [==============================] - 13s 23ms/step - loss: 0.0666 - accuracy: 0.9838 - val_loss: 0.6815 - val_accuracy: 0.8250\n",
      "Epoch 60/150\n",
      "534/534 [==============================] - 13s 24ms/step - loss: 0.0643 - accuracy: 0.9852 - val_loss: 0.6322 - val_accuracy: 0.8345\n",
      "Epoch 61/150\n",
      "534/534 [==============================] - 13s 24ms/step - loss: 0.0636 - accuracy: 0.9847 - val_loss: 0.6210 - val_accuracy: 0.8375\n",
      "Epoch 62/150\n",
      "534/534 [==============================] - 13s 24ms/step - loss: 0.0587 - accuracy: 0.9875 - val_loss: 0.6435 - val_accuracy: 0.8345\n",
      "Epoch 63/150\n",
      "534/534 [==============================] - 13s 24ms/step - loss: 0.0593 - accuracy: 0.9866 - val_loss: 0.6538 - val_accuracy: 0.8355\n",
      "Epoch 64/150\n",
      "534/534 [==============================] - 13s 24ms/step - loss: 0.0543 - accuracy: 0.9868 - val_loss: 1.5583 - val_accuracy: 0.6620\n",
      "Epoch 65/150\n",
      "534/534 [==============================] - 13s 24ms/step - loss: 0.0526 - accuracy: 0.9871 - val_loss: 0.6507 - val_accuracy: 0.8350\n",
      "Epoch 66/150\n",
      "534/534 [==============================] - 14s 25ms/step - loss: 0.0498 - accuracy: 0.9893 - val_loss: 0.7128 - val_accuracy: 0.8245\n",
      "Epoch 67/150\n",
      "534/534 [==============================] - 14s 25ms/step - loss: 0.0484 - accuracy: 0.9895 - val_loss: 0.6679 - val_accuracy: 0.8385\n",
      "Epoch 68/150\n",
      "534/534 [==============================] - 12s 23ms/step - loss: 0.0463 - accuracy: 0.9900 - val_loss: 0.6769 - val_accuracy: 0.8390\n",
      "Epoch 69/150\n",
      "534/534 [==============================] - 13s 24ms/step - loss: 0.0436 - accuracy: 0.9904 - val_loss: 0.6743 - val_accuracy: 0.8370\n",
      "Epoch 70/150\n",
      "534/534 [==============================] - 13s 25ms/step - loss: 0.0436 - accuracy: 0.9901 - val_loss: 0.6763 - val_accuracy: 0.8390\n",
      "Epoch 71/150\n",
      "534/534 [==============================] - 13s 25ms/step - loss: 0.0413 - accuracy: 0.9912 - val_loss: 0.6901 - val_accuracy: 0.8355\n",
      "Epoch 72/150\n",
      "534/534 [==============================] - 13s 24ms/step - loss: 0.0396 - accuracy: 0.9912 - val_loss: 0.6782 - val_accuracy: 0.8400\n",
      "Epoch 73/150\n",
      "534/534 [==============================] - 13s 25ms/step - loss: 0.0392 - accuracy: 0.9916 - val_loss: 0.6777 - val_accuracy: 0.8380\n",
      "Epoch 74/150\n",
      "534/534 [==============================] - 15s 28ms/step - loss: 0.0371 - accuracy: 0.9924 - val_loss: 0.7034 - val_accuracy: 0.8405\n",
      "Epoch 75/150\n",
      "534/534 [==============================] - 13s 24ms/step - loss: 0.0375 - accuracy: 0.9920 - val_loss: 0.7123 - val_accuracy: 0.8390\n",
      "Epoch 76/150\n",
      "534/534 [==============================] - 13s 24ms/step - loss: 0.0374 - accuracy: 0.9911 - val_loss: 0.7104 - val_accuracy: 0.8310\n",
      "Epoch 77/150\n",
      "534/534 [==============================] - 12s 23ms/step - loss: 0.0356 - accuracy: 0.9924 - val_loss: 0.7164 - val_accuracy: 0.8380\n",
      "Epoch 78/150\n",
      "534/534 [==============================] - 13s 24ms/step - loss: 0.0339 - accuracy: 0.9927 - val_loss: 0.7173 - val_accuracy: 0.8350\n",
      "Epoch 79/150\n",
      "534/534 [==============================] - 13s 23ms/step - loss: 0.0345 - accuracy: 0.9923 - val_loss: 0.7618 - val_accuracy: 0.8370\n",
      "Epoch 80/150\n",
      "534/534 [==============================] - 13s 24ms/step - loss: 0.0317 - accuracy: 0.9929 - val_loss: 0.9078 - val_accuracy: 0.8160\n",
      "Epoch 81/150\n",
      "534/534 [==============================] - 14s 26ms/step - loss: 0.0306 - accuracy: 0.9926 - val_loss: 0.7699 - val_accuracy: 0.8200\n",
      "Epoch 82/150\n",
      "534/534 [==============================] - 14s 26ms/step - loss: 0.0324 - accuracy: 0.9933 - val_loss: 0.7451 - val_accuracy: 0.8385\n",
      "Epoch 83/150\n",
      "534/534 [==============================] - 13s 24ms/step - loss: 0.0291 - accuracy: 0.9939 - val_loss: 0.7284 - val_accuracy: 0.8405\n",
      "Epoch 84/150\n",
      "534/534 [==============================] - 12s 22ms/step - loss: 0.0329 - accuracy: 0.9915 - val_loss: 0.7368 - val_accuracy: 0.8390\n",
      "Epoch 85/150\n",
      "534/534 [==============================] - 15s 29ms/step - loss: 0.0285 - accuracy: 0.9931 - val_loss: 0.7494 - val_accuracy: 0.8335\n",
      "Epoch 86/150\n",
      "534/534 [==============================] - 15s 28ms/step - loss: 0.0296 - accuracy: 0.9930 - val_loss: 1.1073 - val_accuracy: 0.7895\n",
      "Epoch 87/150\n",
      "534/534 [==============================] - 18s 34ms/step - loss: 0.0282 - accuracy: 0.9932 - val_loss: 0.7691 - val_accuracy: 0.8355\n",
      "Epoch 88/150\n",
      "534/534 [==============================] - 19s 35ms/step - loss: 0.0343 - accuracy: 0.9923 - val_loss: 0.7344 - val_accuracy: 0.8355\n",
      "Epoch 89/150\n",
      "534/534 [==============================] - 21s 40ms/step - loss: 0.0264 - accuracy: 0.9937 - val_loss: 0.7708 - val_accuracy: 0.8380\n",
      "Epoch 90/150\n",
      "534/534 [==============================] - 21s 39ms/step - loss: 0.0277 - accuracy: 0.9937 - val_loss: 0.7549 - val_accuracy: 0.8355\n",
      "Epoch 91/150\n",
      "534/534 [==============================] - 13s 25ms/step - loss: 0.0285 - accuracy: 0.9930 - val_loss: 0.7471 - val_accuracy: 0.8370\n",
      "Epoch 92/150\n",
      "534/534 [==============================] - 21s 38ms/step - loss: 0.0255 - accuracy: 0.9942 - val_loss: 0.9178 - val_accuracy: 0.8240\n",
      "Epoch 93/150\n",
      "534/534 [==============================] - 12s 22ms/step - loss: 0.0259 - accuracy: 0.9936 - val_loss: 0.7841 - val_accuracy: 0.8385\n",
      "Epoch 94/150\n",
      "534/534 [==============================] - 12s 22ms/step - loss: 0.0254 - accuracy: 0.9936 - val_loss: 0.7884 - val_accuracy: 0.8355\n",
      "Epoch 95/150\n",
      "534/534 [==============================] - 12s 22ms/step - loss: 0.0231 - accuracy: 0.9947 - val_loss: 0.8081 - val_accuracy: 0.8360\n",
      "Epoch 96/150\n",
      "534/534 [==============================] - 12s 22ms/step - loss: 0.0233 - accuracy: 0.9952 - val_loss: 1.2992 - val_accuracy: 0.7620\n",
      "Epoch 97/150\n",
      "534/534 [==============================] - 12s 22ms/step - loss: 0.0242 - accuracy: 0.9940 - val_loss: 0.7834 - val_accuracy: 0.8315\n",
      "Epoch 98/150\n",
      "534/534 [==============================] - 12s 22ms/step - loss: 0.0242 - accuracy: 0.9936 - val_loss: 0.8596 - val_accuracy: 0.8140\n",
      "Epoch 99/150\n",
      "534/534 [==============================] - 12s 22ms/step - loss: 0.0220 - accuracy: 0.9945 - val_loss: 0.8072 - val_accuracy: 0.8345\n",
      "Epoch 100/150\n",
      "534/534 [==============================] - 12s 22ms/step - loss: 0.0240 - accuracy: 0.9934 - val_loss: 0.8009 - val_accuracy: 0.8395\n",
      "Epoch 101/150\n",
      "534/534 [==============================] - 12s 22ms/step - loss: 0.0250 - accuracy: 0.9936 - val_loss: 0.7795 - val_accuracy: 0.8395\n",
      "Epoch 102/150\n",
      "534/534 [==============================] - 12s 22ms/step - loss: 0.0204 - accuracy: 0.9947 - val_loss: 0.7971 - val_accuracy: 0.8380\n",
      "Epoch 103/150\n",
      "534/534 [==============================] - 12s 22ms/step - loss: 0.0224 - accuracy: 0.9948 - val_loss: 1.0581 - val_accuracy: 0.8105\n",
      "Epoch 104/150\n",
      "534/534 [==============================] - 12s 22ms/step - loss: 0.0204 - accuracy: 0.9957 - val_loss: 0.8560 - val_accuracy: 0.8335\n",
      "Epoch 105/150\n",
      "534/534 [==============================] - 12s 22ms/step - loss: 0.0230 - accuracy: 0.9941 - val_loss: 0.8321 - val_accuracy: 0.8345\n",
      "Epoch 106/150\n",
      "534/534 [==============================] - 13s 24ms/step - loss: 0.0203 - accuracy: 0.9949 - val_loss: 0.8028 - val_accuracy: 0.8430\n",
      "Epoch 107/150\n",
      "534/534 [==============================] - 13s 24ms/step - loss: 0.0196 - accuracy: 0.9946 - val_loss: 0.7913 - val_accuracy: 0.8410\n",
      "Epoch 108/150\n",
      "534/534 [==============================] - 12s 23ms/step - loss: 0.0206 - accuracy: 0.9951 - val_loss: 0.8348 - val_accuracy: 0.8380\n",
      "Epoch 109/150\n",
      "534/534 [==============================] - 12s 23ms/step - loss: 0.0209 - accuracy: 0.9948 - val_loss: 0.8054 - val_accuracy: 0.8375\n",
      "Epoch 110/150\n",
      "534/534 [==============================] - 12s 23ms/step - loss: 0.0200 - accuracy: 0.9946 - val_loss: 0.8099 - val_accuracy: 0.8415\n",
      "Epoch 111/150\n",
      "534/534 [==============================] - 12s 23ms/step - loss: 0.0200 - accuracy: 0.9952 - val_loss: 0.8158 - val_accuracy: 0.8385\n",
      "Epoch 112/150\n",
      "534/534 [==============================] - 12s 22ms/step - loss: 0.0207 - accuracy: 0.9956 - val_loss: 0.8298 - val_accuracy: 0.8400\n",
      "Epoch 113/150\n"
     ]
    },
    {
     "name": "stdout",
     "output_type": "stream",
     "text": [
      "534/534 [==============================] - 12s 22ms/step - loss: 0.0204 - accuracy: 0.9951 - val_loss: 0.8256 - val_accuracy: 0.8400\n",
      "Epoch 114/150\n",
      "534/534 [==============================] - 12s 23ms/step - loss: 0.0213 - accuracy: 0.9950 - val_loss: 0.8242 - val_accuracy: 0.8410\n",
      "Epoch 115/150\n",
      "534/534 [==============================] - 12s 23ms/step - loss: 0.0203 - accuracy: 0.9949 - val_loss: 0.8051 - val_accuracy: 0.8430\n",
      "Epoch 116/150\n",
      "534/534 [==============================] - 12s 22ms/step - loss: 0.0203 - accuracy: 0.9950 - val_loss: 0.8300 - val_accuracy: 0.8370\n",
      "Epoch 117/150\n",
      "534/534 [==============================] - 12s 23ms/step - loss: 0.0186 - accuracy: 0.9949 - val_loss: 0.8060 - val_accuracy: 0.8365\n",
      "Epoch 118/150\n",
      "534/534 [==============================] - 12s 22ms/step - loss: 0.0165 - accuracy: 0.9958 - val_loss: 0.8257 - val_accuracy: 0.8410\n",
      "Epoch 119/150\n",
      "534/534 [==============================] - 12s 22ms/step - loss: 0.0180 - accuracy: 0.9954 - val_loss: 0.8277 - val_accuracy: 0.8415\n",
      "Epoch 120/150\n",
      "534/534 [==============================] - 12s 22ms/step - loss: 0.0173 - accuracy: 0.9951 - val_loss: 0.8813 - val_accuracy: 0.8340\n",
      "Epoch 121/150\n",
      "534/534 [==============================] - 12s 22ms/step - loss: 0.0174 - accuracy: 0.9951 - val_loss: 0.8550 - val_accuracy: 0.8350\n",
      "Epoch 122/150\n",
      "534/534 [==============================] - 12s 22ms/step - loss: 0.0166 - accuracy: 0.9960 - val_loss: 0.8573 - val_accuracy: 0.8375\n",
      "Epoch 123/150\n",
      "534/534 [==============================] - 12s 22ms/step - loss: 0.0169 - accuracy: 0.9960 - val_loss: 0.8757 - val_accuracy: 0.8350\n",
      "Epoch 124/150\n",
      "534/534 [==============================] - 12s 22ms/step - loss: 0.0171 - accuracy: 0.9958 - val_loss: 0.9275 - val_accuracy: 0.8275\n",
      "Epoch 125/150\n",
      "534/534 [==============================] - 12s 22ms/step - loss: 0.0176 - accuracy: 0.9954 - val_loss: 0.8683 - val_accuracy: 0.8350\n",
      "Epoch 126/150\n",
      "534/534 [==============================] - 12s 23ms/step - loss: 0.0173 - accuracy: 0.9957 - val_loss: 0.8612 - val_accuracy: 0.8355\n",
      "Epoch 127/150\n",
      "534/534 [==============================] - 12s 23ms/step - loss: 0.0165 - accuracy: 0.9956 - val_loss: 0.8599 - val_accuracy: 0.8375\n",
      "Epoch 128/150\n",
      "534/534 [==============================] - 12s 23ms/step - loss: 0.0159 - accuracy: 0.9962 - val_loss: 0.8948 - val_accuracy: 0.8355\n",
      "Epoch 129/150\n",
      "534/534 [==============================] - 12s 22ms/step - loss: 0.0172 - accuracy: 0.9956 - val_loss: 0.8906 - val_accuracy: 0.8385\n",
      "Epoch 130/150\n",
      "534/534 [==============================] - 12s 23ms/step - loss: 0.0180 - accuracy: 0.9953 - val_loss: 0.8427 - val_accuracy: 0.8370\n",
      "Epoch 131/150\n",
      "534/534 [==============================] - 12s 23ms/step - loss: 0.0160 - accuracy: 0.9956 - val_loss: 0.8419 - val_accuracy: 0.8385\n",
      "Epoch 132/150\n",
      "534/534 [==============================] - 12s 23ms/step - loss: 0.0162 - accuracy: 0.9947 - val_loss: 0.8554 - val_accuracy: 0.8360\n",
      "Epoch 133/150\n",
      "534/534 [==============================] - 13s 24ms/step - loss: 0.0154 - accuracy: 0.9959 - val_loss: 0.8873 - val_accuracy: 0.8310\n",
      "Epoch 134/150\n",
      "534/534 [==============================] - 12s 23ms/step - loss: 0.0165 - accuracy: 0.9958 - val_loss: 0.9407 - val_accuracy: 0.8300\n",
      "Epoch 135/150\n",
      "534/534 [==============================] - 12s 23ms/step - loss: 0.0170 - accuracy: 0.9957 - val_loss: 0.8461 - val_accuracy: 0.8370\n",
      "Epoch 136/150\n",
      "534/534 [==============================] - 13s 23ms/step - loss: 0.0138 - accuracy: 0.9966 - val_loss: 0.8537 - val_accuracy: 0.8395\n",
      "Epoch 137/150\n",
      "534/534 [==============================] - 12s 23ms/step - loss: 0.0154 - accuracy: 0.9959 - val_loss: 0.9513 - val_accuracy: 0.8335\n",
      "Epoch 138/150\n",
      "534/534 [==============================] - 13s 25ms/step - loss: 0.0166 - accuracy: 0.9960 - val_loss: 0.8784 - val_accuracy: 0.8325\n",
      "Epoch 139/150\n",
      "534/534 [==============================] - 13s 24ms/step - loss: 0.0157 - accuracy: 0.9957 - val_loss: 0.8753 - val_accuracy: 0.8340\n",
      "Epoch 140/150\n",
      "534/534 [==============================] - 12s 23ms/step - loss: 0.0144 - accuracy: 0.9961 - val_loss: 0.8771 - val_accuracy: 0.8355\n",
      "Epoch 141/150\n",
      "534/534 [==============================] - 12s 23ms/step - loss: 0.0152 - accuracy: 0.9962 - val_loss: 0.8667 - val_accuracy: 0.8330\n",
      "Epoch 142/150\n",
      "534/534 [==============================] - 12s 23ms/step - loss: 0.0151 - accuracy: 0.9961 - val_loss: 0.8902 - val_accuracy: 0.8330\n",
      "Epoch 143/150\n",
      "534/534 [==============================] - 12s 22ms/step - loss: 0.0169 - accuracy: 0.9954 - val_loss: 0.8766 - val_accuracy: 0.8335\n",
      "Epoch 144/150\n",
      "534/534 [==============================] - 12s 22ms/step - loss: 0.0154 - accuracy: 0.9960 - val_loss: 1.1223 - val_accuracy: 0.8195\n",
      "Epoch 145/150\n",
      "534/534 [==============================] - 12s 22ms/step - loss: 0.0145 - accuracy: 0.9960 - val_loss: 0.9571 - val_accuracy: 0.8320\n",
      "Epoch 146/150\n",
      "534/534 [==============================] - 12s 23ms/step - loss: 0.0168 - accuracy: 0.9956 - val_loss: 0.8993 - val_accuracy: 0.8310\n",
      "Epoch 147/150\n",
      "534/534 [==============================] - 12s 22ms/step - loss: 0.0141 - accuracy: 0.9962 - val_loss: 0.8948 - val_accuracy: 0.8350\n",
      "Epoch 148/150\n",
      "534/534 [==============================] - 12s 23ms/step - loss: 0.0139 - accuracy: 0.9960 - val_loss: 0.8916 - val_accuracy: 0.8370\n",
      "Epoch 149/150\n",
      "534/534 [==============================] - 13s 24ms/step - loss: 0.0141 - accuracy: 0.9964 - val_loss: 0.8879 - val_accuracy: 0.8310\n",
      "Epoch 150/150\n",
      "534/534 [==============================] - 13s 24ms/step - loss: 0.0152 - accuracy: 0.9954 - val_loss: 0.9013 - val_accuracy: 0.8395\n"
     ]
    }
   ],
   "source": [
    "m_1 = model_1.fit(training_padded, training_labels_enc, validation_data=(testing_padded, testing_labels_enc), epochs=150, batch_size=30, verbose=1)"
   ]
  },
  {
   "cell_type": "code",
   "execution_count": 57,
   "metadata": {},
   "outputs": [
    {
     "data": {
      "text/plain": [
       "<matplotlib.legend.Legend at 0x2255523dc40>"
      ]
     },
     "execution_count": 57,
     "metadata": {},
     "output_type": "execute_result"
    },
    {
     "data": {
      "image/png": "[encoded data removed]",
      "text/plain": [
       "<Figure size 432x288 with 1 Axes>"
      ]
     },
     "metadata": {
      "needs_background": "light"
     },
     "output_type": "display_data"
    }
   ],
   "source": [
    "# Plot for loss\n",
    "plt.plot(m_1.history['loss'], label='loss')\n",
    "plt.plot(m_1.history['val_loss'], label='val_loss')\n",
    "plt.legend()"
   ]
  },
  {
   "cell_type": "code",
   "execution_count": 58,
   "metadata": {},
   "outputs": [
    {
     "data": {
      "text/plain": [
       "<matplotlib.legend.Legend at 0x22554adf700>"
      ]
     },
     "execution_count": 58,
     "metadata": {},
     "output_type": "execute_result"
    },
    {
     "data": {
      "image/png": "[encoded data removed]",
      "text/plain": [
       "<Figure size 432x288 with 1 Axes>"
      ]
     },
     "metadata": {
      "needs_background": "light"
     },
     "output_type": "display_data"
    }
   ],
   "source": [
    "# plot for accuracy\n",
    "plt.plot(m_1.history['accuracy'], label='acc')\n",
    "plt.plot(m_1.history['val_accuracy'], label='val_acc')\n",
    "plt.legend()"
   ]
  },
  {
   "cell_type": "code",
   "execution_count": 59,
   "metadata": {},
   "outputs": [],
   "source": [
    "classes_pred_1 = model_1.predict(testing_padded)\n",
    "testing_labels_predict_1 = classes_pred_1.argmax(axis=-1)"
   ]
  },
  {
   "cell_type": "code",
   "execution_count": 60,
   "metadata": {},
   "outputs": [],
   "source": [
    "cm_1 = confusion_matrix(testing_labels_enc, testing_labels_predict_1)\n",
    "cm_df_1 = pd.DataFrame(cm_1,\n",
    "                     index = col, \n",
    "                     columns = col)"
   ]
  },
  {
   "cell_type": "code",
   "execution_count": 61,
   "metadata": {},
   "outputs": [
    {
     "data": {
      "image/png": "[encoded data removed]",
      "text/plain": [
       "<Figure size 720x720 with 2 Axes>"
      ]
     },
     "metadata": {
      "needs_background": "light"
     },
     "output_type": "display_data"
    }
   ],
   "source": [
    "#Plotting the confusion matrix\n",
    "plt.figure(figsize=(10,10))\n",
    "sns.heatmap(cm_df_1, annot=True)\n",
    "plt.title('Confusion Matrix')\n",
    "plt.ylabel('Actal Values')\n",
    "plt.xlabel('Predicted Values')\n",
    "plt.show()"
   ]
  },
  {
   "cell_type": "code",
   "execution_count": 77,
   "metadata": {},
   "outputs": [],
   "source": [
    "# define model\n",
    "model_2 = Sequential()\n",
    "model_2.add(Embedding(vocab_size, 300, input_length=70))\n",
    "model_2.add(Bidirectional(LSTM(64, activation='relu')))\n",
    "model_2.add(Dropout(0.2))\n",
    "model_2.add(Dense(len(training_class[0]), activation='softmax'))\n",
    "\n",
    "model_2.compile(loss='sparse_categorical_crossentropy', optimizer=sgd, metrics=['accuracy'])"
   ]
  },
  {
   "cell_type": "code",
   "execution_count": 78,
   "metadata": {},
   "outputs": [
    {
     "name": "stdout",
     "output_type": "stream",
     "text": [
      "Epoch 1/150\n",
      "534/534 [==============================] - 70s 127ms/step - loss: 1.6405 - accuracy: 0.3257 - val_loss: 1.5661 - val_accuracy: 0.3475\n",
      "Epoch 2/150\n",
      "534/534 [==============================] - 68s 127ms/step - loss: 1.5803 - accuracy: 0.3349 - val_loss: 1.5606 - val_accuracy: 0.3475\n",
      "Epoch 3/150\n",
      "534/534 [==============================] - 69s 128ms/step - loss: 1.5789 - accuracy: 0.3327 - val_loss: 1.5596 - val_accuracy: 0.3475\n",
      "Epoch 4/150\n",
      "534/534 [==============================] - 70s 132ms/step - loss: 1.5772 - accuracy: 0.3325 - val_loss: 1.5583 - val_accuracy: 0.3475\n",
      "Epoch 5/150\n",
      "534/534 [==============================] - 68s 128ms/step - loss: 1.5766 - accuracy: 0.3334 - val_loss: 1.5587 - val_accuracy: 0.3475\n",
      "Epoch 6/150\n",
      "534/534 [==============================] - 70s 131ms/step - loss: 1.5761 - accuracy: 0.3342 - val_loss: 1.5581 - val_accuracy: 0.3475\n",
      "Epoch 7/150\n",
      "534/534 [==============================] - 69s 129ms/step - loss: 1.5759 - accuracy: 0.3368 - val_loss: 1.5576 - val_accuracy: 0.3475\n",
      "Epoch 8/150\n",
      "534/534 [==============================] - 69s 128ms/step - loss: 1.5758 - accuracy: 0.3351 - val_loss: 1.5584 - val_accuracy: 0.3475\n",
      "Epoch 9/150\n",
      "534/534 [==============================] - 73s 137ms/step - loss: 1.5739 - accuracy: 0.3343 - val_loss: 1.5581 - val_accuracy: 0.3475\n",
      "Epoch 10/150\n",
      "534/534 [==============================] - 70s 131ms/step - loss: 1.5747 - accuracy: 0.3368 - val_loss: 1.5577 - val_accuracy: 0.3475\n",
      "Epoch 11/150\n",
      "534/534 [==============================] - 69s 130ms/step - loss: 1.5728 - accuracy: 0.3363 - val_loss: 1.5572 - val_accuracy: 0.3475\n",
      "Epoch 12/150\n",
      "534/534 [==============================] - 71s 132ms/step - loss: 1.5730 - accuracy: 0.3384 - val_loss: 1.5567 - val_accuracy: 0.3520\n",
      "Epoch 13/150\n",
      "534/534 [==============================] - 70s 131ms/step - loss: 1.5720 - accuracy: 0.3404 - val_loss: 1.5563 - val_accuracy: 0.3475\n",
      "Epoch 14/150\n",
      "534/534 [==============================] - 70s 130ms/step - loss: 1.5721 - accuracy: 0.3371 - val_loss: 1.5558 - val_accuracy: 0.3445\n",
      "Epoch 15/150\n",
      "534/534 [==============================] - 69s 130ms/step - loss: 1.5711 - accuracy: 0.3424 - val_loss: 1.5561 - val_accuracy: 0.3520\n",
      "Epoch 16/150\n",
      "534/534 [==============================] - 69s 129ms/step - loss: 1.5709 - accuracy: 0.3383 - val_loss: 1.5552 - val_accuracy: 0.3500\n",
      "Epoch 17/150\n",
      "534/534 [==============================] - 70s 132ms/step - loss: 1.5709 - accuracy: 0.3408 - val_loss: 1.5551 - val_accuracy: 0.3450\n",
      "Epoch 18/150\n",
      "534/534 [==============================] - 69s 130ms/step - loss: 1.5700 - accuracy: 0.3431 - val_loss: 1.5547 - val_accuracy: 0.3450\n",
      "Epoch 19/150\n",
      "534/534 [==============================] - 69s 130ms/step - loss: 1.5696 - accuracy: 0.3421 - val_loss: 1.5547 - val_accuracy: 0.3485\n",
      "Epoch 20/150\n",
      "534/534 [==============================] - 70s 130ms/step - loss: 1.5698 - accuracy: 0.3447 - val_loss: 1.5540 - val_accuracy: 0.3545\n",
      "Epoch 21/150\n",
      "534/534 [==============================] - 69s 130ms/step - loss: 1.5685 - accuracy: 0.3467 - val_loss: 1.5545 - val_accuracy: 0.3525\n",
      "Epoch 22/150\n",
      "534/534 [==============================] - 69s 129ms/step - loss: 1.5678 - accuracy: 0.3473 - val_loss: 1.5545 - val_accuracy: 0.3565\n",
      "Epoch 23/150\n",
      "534/534 [==============================] - 70s 131ms/step - loss: 1.5678 - accuracy: 0.3465 - val_loss: 1.5529 - val_accuracy: 0.3585\n",
      "Epoch 24/150\n",
      "534/534 [==============================] - 71s 133ms/step - loss: 1.5665 - accuracy: 0.3517 - val_loss: 1.5517 - val_accuracy: 0.3595\n",
      "Epoch 25/150\n",
      "534/534 [==============================] - 71s 133ms/step - loss: 1.5659 - accuracy: 0.3521 - val_loss: 1.5535 - val_accuracy: 0.3450\n",
      "Epoch 26/150\n",
      "534/534 [==============================] - 71s 133ms/step - loss: 1.5661 - accuracy: 0.3512 - val_loss: 1.5514 - val_accuracy: 0.3620\n",
      "Epoch 27/150\n",
      "534/534 [==============================] - 70s 130ms/step - loss: 1.5651 - accuracy: 0.3540 - val_loss: 1.5502 - val_accuracy: 0.3595\n",
      "Epoch 28/150\n",
      "534/534 [==============================] - 71s 133ms/step - loss: 1.5639 - accuracy: 0.3542 - val_loss: 1.5494 - val_accuracy: 0.3585\n",
      "Epoch 29/150\n",
      "534/534 [==============================] - 69s 130ms/step - loss: 1.5631 - accuracy: 0.3566 - val_loss: 1.5485 - val_accuracy: 0.3650\n",
      "Epoch 30/150\n",
      "534/534 [==============================] - 70s 131ms/step - loss: 1.5616 - accuracy: 0.3604 - val_loss: 1.5480 - val_accuracy: 0.3635\n",
      "Epoch 31/150\n",
      "534/534 [==============================] - 70s 131ms/step - loss: 1.5603 - accuracy: 0.3614 - val_loss: 1.5463 - val_accuracy: 0.3650\n",
      "Epoch 32/150\n",
      "534/534 [==============================] - 71s 133ms/step - loss: 1.5585 - accuracy: 0.3654 - val_loss: 1.5445 - val_accuracy: 0.3670\n",
      "Epoch 33/150\n",
      "534/534 [==============================] - 70s 131ms/step - loss: 1.5569 - accuracy: 0.3658 - val_loss: 1.5429 - val_accuracy: 0.3725\n",
      "Epoch 34/150\n",
      "534/534 [==============================] - 71s 134ms/step - loss: 1.5544 - accuracy: 0.3715 - val_loss: 1.5403 - val_accuracy: 0.3745\n",
      "Epoch 35/150\n",
      "534/534 [==============================] - 70s 131ms/step - loss: 1.5526 - accuracy: 0.3756 - val_loss: 1.5389 - val_accuracy: 0.3845\n",
      "Epoch 36/150\n",
      "534/534 [==============================] - 69s 130ms/step - loss: 1.5489 - accuracy: 0.3839 - val_loss: 1.5343 - val_accuracy: 0.3870\n",
      "Epoch 37/150\n",
      "534/534 [==============================] - 72s 134ms/step - loss: 1.5439 - accuracy: 0.3954 - val_loss: 1.5288 - val_accuracy: 0.3855\n",
      "Epoch 38/150\n",
      "534/534 [==============================] - 70s 131ms/step - loss: 1.5386 - accuracy: 0.4034 - val_loss: 1.5251 - val_accuracy: 0.4235\n",
      "Epoch 39/150\n",
      "534/534 [==============================] - 69s 130ms/step - loss: 1.5281 - accuracy: 0.4200 - val_loss: 1.5195 - val_accuracy: 0.4185\n",
      "Epoch 40/150\n",
      "534/534 [==============================] - 71s 132ms/step - loss: 1.5141 - accuracy: 0.4376 - val_loss: 1.5136 - val_accuracy: 0.3685\n",
      "Epoch 41/150\n",
      "534/534 [==============================] - 72s 134ms/step - loss: 1.4939 - accuracy: 0.4626 - val_loss: 1.4713 - val_accuracy: 0.5295\n",
      "Epoch 42/150\n",
      "534/534 [==============================] - 72s 135ms/step - loss: 1.4687 - accuracy: 0.4805 - val_loss: 1.6637 - val_accuracy: 0.3575\n",
      "Epoch 43/150\n",
      "534/534 [==============================] - 72s 135ms/step - loss: 1.4358 - accuracy: 0.5029 - val_loss: 1.4432 - val_accuracy: 0.4830\n",
      "Epoch 44/150\n",
      "534/534 [==============================] - 70s 130ms/step - loss: 1.4005 - accuracy: 0.5176 - val_loss: 1.3653 - val_accuracy: 0.5215\n",
      "Epoch 45/150\n",
      "534/534 [==============================] - 69s 130ms/step - loss: 1.3341 - accuracy: 0.5444 - val_loss: 1.2775 - val_accuracy: 0.5690\n",
      "Epoch 46/150\n",
      "534/534 [==============================] - 70s 131ms/step - loss: 1.2796 - accuracy: 0.5588 - val_loss: 1.2255 - val_accuracy: 0.5795\n",
      "Epoch 47/150\n",
      "534/534 [==============================] - 70s 130ms/step - loss: 1.2179 - accuracy: 0.5751 - val_loss: 1.1943 - val_accuracy: 0.5750\n",
      "Epoch 48/150\n",
      "534/534 [==============================] - 69s 129ms/step - loss: 1.2014 - accuracy: 0.5846 - val_loss: 1.1551 - val_accuracy: 0.5995\n",
      "Epoch 49/150\n",
      "534/534 [==============================] - 69s 130ms/step - loss: 1.1399 - accuracy: 0.5906 - val_loss: 1.5446 - val_accuracy: 0.4660\n",
      "Epoch 50/150\n",
      "534/534 [==============================] - 70s 132ms/step - loss: 1.0914 - accuracy: 0.6012 - val_loss: 1.0639 - val_accuracy: 0.6110\n",
      "Epoch 51/150\n",
      "534/534 [==============================] - 71s 132ms/step - loss: 1.0476 - accuracy: 0.6134 - val_loss: 1.0175 - val_accuracy: 0.6190\n",
      "Epoch 52/150\n",
      "534/534 [==============================] - 71s 134ms/step - loss: 1.0127 - accuracy: 0.6256 - val_loss: 0.9577 - val_accuracy: 0.6490\n",
      "Epoch 53/150\n",
      "534/534 [==============================] - 71s 133ms/step - loss: 0.9778 - accuracy: 0.6411 - val_loss: 1.2303 - val_accuracy: 0.5635\n",
      "Epoch 54/150\n",
      "534/534 [==============================] - 72s 135ms/step - loss: 0.9278 - accuracy: 0.6628 - val_loss: 0.9178 - val_accuracy: 0.6675\n",
      "Epoch 55/150\n",
      "534/534 [==============================] - 70s 131ms/step - loss: 0.8968 - accuracy: 0.6780 - val_loss: 0.8817 - val_accuracy: 0.7070\n",
      "Epoch 56/150\n",
      "534/534 [==============================] - 71s 133ms/step - loss: 0.8644 - accuracy: 0.6902 - val_loss: 0.8331 - val_accuracy: 0.7250\n"
     ]
    },
    {
     "name": "stdout",
     "output_type": "stream",
     "text": [
      "Epoch 57/150\n",
      "534/534 [==============================] - 66s 124ms/step - loss: 0.8924 - accuracy: 0.6826 - val_loss: 0.9736 - val_accuracy: 0.6505\n",
      "Epoch 58/150\n",
      "534/534 [==============================] - 67s 126ms/step - loss: 0.8030 - accuracy: 0.7156 - val_loss: 0.7810 - val_accuracy: 0.7385\n",
      "Epoch 59/150\n",
      "534/534 [==============================] - 72s 135ms/step - loss: 0.7704 - accuracy: 0.7296 - val_loss: 0.7935 - val_accuracy: 0.7435\n",
      "Epoch 60/150\n",
      "534/534 [==============================] - 72s 135ms/step - loss: 0.7375 - accuracy: 0.7447 - val_loss: 0.7651 - val_accuracy: 0.7555\n",
      "Epoch 61/150\n",
      "534/534 [==============================] - 70s 130ms/step - loss: 0.7054 - accuracy: 0.7588 - val_loss: 0.7288 - val_accuracy: 0.7645\n",
      "Epoch 62/150\n",
      "534/534 [==============================] - 69s 130ms/step - loss: 0.6847 - accuracy: 0.7653 - val_loss: 0.7937 - val_accuracy: 0.7450\n",
      "Epoch 63/150\n",
      "534/534 [==============================] - 70s 131ms/step - loss: 0.6554 - accuracy: 0.7769 - val_loss: 0.6793 - val_accuracy: 0.7890\n",
      "Epoch 64/150\n",
      "534/534 [==============================] - 70s 131ms/step - loss: 0.6297 - accuracy: 0.7880 - val_loss: 0.6767 - val_accuracy: 0.7840\n",
      "Epoch 65/150\n",
      "534/534 [==============================] - 70s 130ms/step - loss: 0.6032 - accuracy: 0.7996 - val_loss: 0.7653 - val_accuracy: 0.7395\n",
      "Epoch 66/150\n",
      "534/534 [==============================] - 71s 133ms/step - loss: 0.5870 - accuracy: 0.8068 - val_loss: 0.6847 - val_accuracy: 0.7850\n",
      "Epoch 67/150\n",
      "534/534 [==============================] - 75s 140ms/step - loss: 0.5558 - accuracy: 0.8191 - val_loss: 0.6270 - val_accuracy: 0.8035\n",
      "Epoch 68/150\n",
      "534/534 [==============================] - 73s 137ms/step - loss: 0.5387 - accuracy: 0.8265 - val_loss: 0.6070 - val_accuracy: 0.8135\n",
      "Epoch 69/150\n",
      "534/534 [==============================] - 75s 140ms/step - loss: 0.5100 - accuracy: 0.8382 - val_loss: 0.8827 - val_accuracy: 0.7180\n",
      "Epoch 70/150\n",
      "534/534 [==============================] - 70s 130ms/step - loss: 0.4878 - accuracy: 0.8481 - val_loss: 0.8340 - val_accuracy: 0.7200\n",
      "Epoch 71/150\n",
      "534/534 [==============================] - 70s 130ms/step - loss: 0.4619 - accuracy: 0.8572 - val_loss: 0.5626 - val_accuracy: 0.8250\n",
      "Epoch 72/150\n",
      "534/534 [==============================] - 69s 128ms/step - loss: 0.4347 - accuracy: 0.8692 - val_loss: 0.5799 - val_accuracy: 0.8290\n",
      "Epoch 73/150\n",
      "534/534 [==============================] - 69s 130ms/step - loss: 0.4116 - accuracy: 0.8742 - val_loss: 0.4994 - val_accuracy: 0.8505\n",
      "Epoch 74/150\n",
      "534/534 [==============================] - 69s 129ms/step - loss: 0.3920 - accuracy: 0.8812 - val_loss: 0.4882 - val_accuracy: 0.8545\n",
      "Epoch 75/150\n",
      "534/534 [==============================] - 70s 130ms/step - loss: 0.3969 - accuracy: 0.8809 - val_loss: 0.4812 - val_accuracy: 0.8490\n",
      "Epoch 76/150\n",
      "534/534 [==============================] - 69s 129ms/step - loss: 0.3581 - accuracy: 0.8925 - val_loss: 0.4480 - val_accuracy: 0.8640\n",
      "Epoch 77/150\n",
      "534/534 [==============================] - 70s 131ms/step - loss: 0.3328 - accuracy: 0.8963 - val_loss: 0.4466 - val_accuracy: 0.8650\n",
      "Epoch 78/150\n",
      "534/534 [==============================] - 69s 130ms/step - loss: 0.3209 - accuracy: 0.9028 - val_loss: 0.5080 - val_accuracy: 0.8420\n",
      "Epoch 79/150\n",
      "534/534 [==============================] - 68s 128ms/step - loss: 0.2918 - accuracy: 0.9074 - val_loss: 0.4785 - val_accuracy: 0.8535\n",
      "Epoch 80/150\n",
      "534/534 [==============================] - 69s 130ms/step - loss: 0.2770 - accuracy: 0.9126 - val_loss: 0.4856 - val_accuracy: 0.8535\n",
      "Epoch 81/150\n",
      "534/534 [==============================] - 71s 133ms/step - loss: 0.5027 - accuracy: 0.8564 - val_loss: 0.5091 - val_accuracy: 0.8445\n",
      "Epoch 82/150\n",
      "534/534 [==============================] - 71s 133ms/step - loss: 0.3355 - accuracy: 0.8979 - val_loss: 1.0259 - val_accuracy: 0.7285\n",
      "Epoch 83/150\n",
      "534/534 [==============================] - 69s 129ms/step - loss: 0.2789 - accuracy: 0.9099 - val_loss: 0.4567 - val_accuracy: 0.8565\n",
      "Epoch 84/150\n",
      "534/534 [==============================] - 68s 128ms/step - loss: 0.2638 - accuracy: 0.9190 - val_loss: 0.4014 - val_accuracy: 0.8750\n",
      "Epoch 85/150\n",
      "534/534 [==============================] - 68s 128ms/step - loss: 0.2394 - accuracy: 0.9224 - val_loss: 0.3918 - val_accuracy: 0.8820\n",
      "Epoch 86/150\n",
      "534/534 [==============================] - 69s 129ms/step - loss: 0.2268 - accuracy: 0.9284 - val_loss: 0.4359 - val_accuracy: 0.8670\n",
      "Epoch 87/150\n",
      "534/534 [==============================] - 68s 128ms/step - loss: 0.2246 - accuracy: 0.9314 - val_loss: 0.3933 - val_accuracy: 0.8785\n",
      "Epoch 88/150\n",
      "534/534 [==============================] - 68s 128ms/step - loss: 0.2078 - accuracy: 0.9336 - val_loss: 0.4807 - val_accuracy: 0.8700\n",
      "Epoch 89/150\n",
      "534/534 [==============================] - 69s 129ms/step - loss: 0.1887 - accuracy: 0.9410 - val_loss: 0.4059 - val_accuracy: 0.8825\n",
      "Epoch 90/150\n",
      "534/534 [==============================] - 69s 129ms/step - loss: 0.1833 - accuracy: 0.9429 - val_loss: 0.5295 - val_accuracy: 0.8645\n",
      "Epoch 91/150\n",
      "534/534 [==============================] - 68s 128ms/step - loss: 0.1744 - accuracy: 0.9457 - val_loss: 0.4877 - val_accuracy: 0.8705\n",
      "Epoch 92/150\n",
      "534/534 [==============================] - 71s 133ms/step - loss: 0.1677 - accuracy: 0.9499 - val_loss: 0.9402 - val_accuracy: 0.7870\n",
      "Epoch 93/150\n",
      "534/534 [==============================] - 69s 129ms/step - loss: 0.1623 - accuracy: 0.9514 - val_loss: 0.3763 - val_accuracy: 0.8890\n",
      "Epoch 94/150\n",
      "534/534 [==============================] - 69s 129ms/step - loss: 0.1563 - accuracy: 0.9524 - val_loss: 0.4288 - val_accuracy: 0.8930\n",
      "Epoch 95/150\n",
      "534/534 [==============================] - 70s 130ms/step - loss: 0.1523 - accuracy: 0.9528 - val_loss: 0.3946 - val_accuracy: 0.8925\n",
      "Epoch 96/150\n",
      "534/534 [==============================] - 69s 129ms/step - loss: 0.1442 - accuracy: 0.9564 - val_loss: 0.3827 - val_accuracy: 0.8935\n",
      "Epoch 97/150\n",
      "534/534 [==============================] - 69s 129ms/step - loss: 0.2841 - accuracy: 0.9293 - val_loss: 0.4411 - val_accuracy: 0.8680\n",
      "Epoch 98/150\n",
      "534/534 [==============================] - 69s 129ms/step - loss: 0.2204 - accuracy: 0.9357 - val_loss: 0.5356 - val_accuracy: 0.8625\n",
      "Epoch 99/150\n",
      "534/534 [==============================] - 69s 129ms/step - loss: 0.1647 - accuracy: 0.9531 - val_loss: 0.3748 - val_accuracy: 0.8925\n",
      "Epoch 100/150\n",
      "534/534 [==============================] - 69s 129ms/step - loss: 0.1436 - accuracy: 0.9591 - val_loss: 0.3764 - val_accuracy: 0.8930\n",
      "Epoch 101/150\n",
      "534/534 [==============================] - 69s 129ms/step - loss: 0.1304 - accuracy: 0.9615 - val_loss: 0.3973 - val_accuracy: 0.8940\n",
      "Epoch 102/150\n",
      "534/534 [==============================] - 69s 129ms/step - loss: 0.1258 - accuracy: 0.9628 - val_loss: 0.3732 - val_accuracy: 0.8980\n",
      "Epoch 103/150\n",
      "534/534 [==============================] - 70s 132ms/step - loss: 0.1199 - accuracy: 0.9636 - val_loss: 0.6332 - val_accuracy: 0.8395\n",
      "Epoch 104/150\n",
      "534/534 [==============================] - 72s 135ms/step - loss: 0.1147 - accuracy: 0.9658 - val_loss: 0.3790 - val_accuracy: 0.9010\n",
      "Epoch 105/150\n",
      "534/534 [==============================] - 70s 131ms/step - loss: 0.1152 - accuracy: 0.9659 - val_loss: 0.3797 - val_accuracy: 0.8950\n",
      "Epoch 106/150\n",
      "534/534 [==============================] - 70s 130ms/step - loss: 0.1056 - accuracy: 0.9679 - val_loss: 0.3864 - val_accuracy: 0.8935\n",
      "Epoch 107/150\n",
      "534/534 [==============================] - 71s 132ms/step - loss: 0.1139 - accuracy: 0.9676 - val_loss: 0.3576 - val_accuracy: 0.9030\n",
      "Epoch 108/150\n",
      "534/534 [==============================] - 69s 129ms/step - loss: 0.1029 - accuracy: 0.9684 - val_loss: 0.3901 - val_accuracy: 0.8985\n",
      "Epoch 109/150\n",
      "534/534 [==============================] - 69s 129ms/step - loss: 0.0941 - accuracy: 0.9713 - val_loss: 0.3650 - val_accuracy: 0.8985\n",
      "Epoch 110/150\n",
      "534/534 [==============================] - 69s 129ms/step - loss: 0.0891 - accuracy: 0.9732 - val_loss: 0.4120 - val_accuracy: 0.8960\n",
      "Epoch 111/150\n",
      "534/534 [==============================] - 68s 128ms/step - loss: 0.0838 - accuracy: 0.9747 - val_loss: 0.5224 - val_accuracy: 0.8870\n",
      "Epoch 112/150\n",
      "534/534 [==============================] - 66s 124ms/step - loss: 0.0846 - accuracy: 0.9740 - val_loss: 0.3960 - val_accuracy: 0.8995\n",
      "Epoch 113/150\n",
      "534/534 [==============================] - 67s 125ms/step - loss: 0.0785 - accuracy: 0.9764 - val_loss: 0.4608 - val_accuracy: 0.8985\n",
      "Epoch 114/150\n",
      "534/534 [==============================] - 65s 122ms/step - loss: 0.0817 - accuracy: 0.9740 - val_loss: 0.4240 - val_accuracy: 0.9000\n",
      "Epoch 115/150\n",
      "534/534 [==============================] - 65s 122ms/step - loss: 0.0940 - accuracy: 0.9747 - val_loss: 0.3923 - val_accuracy: 0.9045\n",
      "Epoch 116/150\n",
      "534/534 [==============================] - 66s 123ms/step - loss: 0.0725 - accuracy: 0.9772 - val_loss: 0.4474 - val_accuracy: 0.8985\n",
      "Epoch 117/150\n",
      "534/534 [==============================] - 65s 122ms/step - loss: 0.0787 - accuracy: 0.9773 - val_loss: 0.3617 - val_accuracy: 0.9025\n",
      "Epoch 118/150\n",
      "534/534 [==============================] - 65s 122ms/step - loss: 0.0678 - accuracy: 0.9804 - val_loss: 0.4637 - val_accuracy: 0.9030\n",
      "Epoch 119/150\n",
      "534/534 [==============================] - 65s 122ms/step - loss: 0.0725 - accuracy: 0.9770 - val_loss: 0.4360 - val_accuracy: 0.9030\n",
      "Epoch 120/150\n",
      "534/534 [==============================] - 66s 123ms/step - loss: 0.0663 - accuracy: 0.9811 - val_loss: 0.3947 - val_accuracy: 0.9065\n",
      "Epoch 121/150\n",
      "534/534 [==============================] - 66s 124ms/step - loss: 0.0637 - accuracy: 0.9811 - val_loss: 0.4516 - val_accuracy: 0.8980\n",
      "Epoch 122/150\n",
      "534/534 [==============================] - 67s 125ms/step - loss: 0.0610 - accuracy: 0.9808 - val_loss: 0.4297 - val_accuracy: 0.9035\n",
      "Epoch 123/150\n",
      "534/534 [==============================] - 66s 124ms/step - loss: 0.0617 - accuracy: 0.9806 - val_loss: 0.5017 - val_accuracy: 0.8950\n",
      "Epoch 124/150\n",
      "534/534 [==============================] - 66s 124ms/step - loss: 0.0663 - accuracy: 0.9802 - val_loss: 0.4023 - val_accuracy: 0.9060\n",
      "Epoch 125/150\n",
      "534/534 [==============================] - 66s 124ms/step - loss: 0.0647 - accuracy: 0.9815 - val_loss: 0.4241 - val_accuracy: 0.9070\n",
      "Epoch 126/150\n",
      "534/534 [==============================] - 66s 124ms/step - loss: 0.0636 - accuracy: 0.9814 - val_loss: 0.4444 - val_accuracy: 0.9010\n",
      "Epoch 127/150\n",
      "534/534 [==============================] - 66s 124ms/step - loss: 0.0597 - accuracy: 0.9816 - val_loss: 0.4739 - val_accuracy: 0.8935\n",
      "Epoch 128/150\n",
      "534/534 [==============================] - 66s 124ms/step - loss: 0.0569 - accuracy: 0.9835 - val_loss: 0.4189 - val_accuracy: 0.9060\n",
      "Epoch 129/150\n",
      "534/534 [==============================] - 66s 124ms/step - loss: 0.0529 - accuracy: 0.9844 - val_loss: 0.4314 - val_accuracy: 0.9020\n",
      "Epoch 130/150\n",
      "534/534 [==============================] - 66s 124ms/step - loss: 0.0649 - accuracy: 0.9812 - val_loss: 0.3783 - val_accuracy: 0.9070\n",
      "Epoch 131/150\n",
      "534/534 [==============================] - 66s 124ms/step - loss: 0.0557 - accuracy: 0.9832 - val_loss: 0.4224 - val_accuracy: 0.9050\n",
      "Epoch 132/150\n",
      "534/534 [==============================] - 67s 125ms/step - loss: 0.0474 - accuracy: 0.9862 - val_loss: 0.5105 - val_accuracy: 0.8955\n",
      "Epoch 133/150\n",
      "534/534 [==============================] - 66s 124ms/step - loss: 0.0592 - accuracy: 0.9822 - val_loss: 0.3816 - val_accuracy: 0.9030\n",
      "Epoch 134/150\n",
      "534/534 [==============================] - 67s 125ms/step - loss: 0.0510 - accuracy: 0.9844 - val_loss: 0.4488 - val_accuracy: 0.9030\n",
      "Epoch 135/150\n",
      "534/534 [==============================] - 66s 123ms/step - loss: 0.0460 - accuracy: 0.9868 - val_loss: 0.4681 - val_accuracy: 0.9060\n",
      "Epoch 136/150\n",
      "534/534 [==============================] - 66s 123ms/step - loss: 0.0500 - accuracy: 0.9841 - val_loss: 0.4361 - val_accuracy: 0.9040\n",
      "Epoch 137/150\n",
      "534/534 [==============================] - 66s 123ms/step - loss: 0.0521 - accuracy: 0.9847 - val_loss: 0.4637 - val_accuracy: 0.9055\n",
      "Epoch 138/150\n",
      "534/534 [==============================] - 66s 124ms/step - loss: 0.0455 - accuracy: 0.9858 - val_loss: 0.4523 - val_accuracy: 0.9020\n",
      "Epoch 139/150\n",
      "534/534 [==============================] - 66s 123ms/step - loss: 0.0468 - accuracy: 0.9854 - val_loss: 0.4428 - val_accuracy: 0.9040\n",
      "Epoch 140/150\n",
      "534/534 [==============================] - 66s 123ms/step - loss: 0.0435 - accuracy: 0.9862 - val_loss: 0.4339 - val_accuracy: 0.9065\n",
      "Epoch 141/150\n",
      "534/534 [==============================] - 66s 124ms/step - loss: 0.0441 - accuracy: 0.9856 - val_loss: 0.4871 - val_accuracy: 0.9085\n",
      "Epoch 142/150\n",
      "534/534 [==============================] - 66s 125ms/step - loss: 0.0746 - accuracy: 0.9795 - val_loss: 0.4387 - val_accuracy: 0.9060\n",
      "Epoch 143/150\n",
      "534/534 [==============================] - 67s 125ms/step - loss: 0.0520 - accuracy: 0.9859 - val_loss: 0.4494 - val_accuracy: 0.9045\n",
      "Epoch 144/150\n",
      "534/534 [==============================] - 66s 124ms/step - loss: 0.0442 - accuracy: 0.9859 - val_loss: 0.4591 - val_accuracy: 0.8970\n",
      "Epoch 145/150\n",
      "534/534 [==============================] - 67s 125ms/step - loss: 0.0496 - accuracy: 0.9852 - val_loss: 0.4353 - val_accuracy: 0.9025\n",
      "Epoch 146/150\n",
      "534/534 [==============================] - 67s 125ms/step - loss: 0.0434 - accuracy: 0.9877 - val_loss: 0.4623 - val_accuracy: 0.9060\n",
      "Epoch 147/150\n",
      "534/534 [==============================] - 72s 135ms/step - loss: 0.0419 - accuracy: 0.9870 - val_loss: 0.4616 - val_accuracy: 0.9035\n",
      "Epoch 148/150\n",
      "534/534 [==============================] - 75s 141ms/step - loss: 0.0669 - accuracy: 0.9809 - val_loss: 0.4666 - val_accuracy: 0.8970\n",
      "Epoch 149/150\n",
      "534/534 [==============================] - 70s 131ms/step - loss: 0.0408 - accuracy: 0.9889 - val_loss: 0.4915 - val_accuracy: 0.8985\n",
      "Epoch 150/150\n",
      "534/534 [==============================] - 69s 129ms/step - loss: 0.0381 - accuracy: 0.9881 - val_loss: 0.4882 - val_accuracy: 0.9100\n"
     ]
    }
   ],
   "source": [
    "m_2 = model_2.fit(training_padded, training_labels_enc, validation_data=(testing_padded, testing_labels_enc), epochs=150, batch_size=30, verbose=1)"
   ]
  },
  {
   "cell_type": "code",
   "execution_count": 79,
   "metadata": {},
   "outputs": [
    {
     "data": {
      "text/plain": [
       "<matplotlib.legend.Legend at 0x225002b46a0>"
      ]
     },
     "execution_count": 79,
     "metadata": {},
     "output_type": "execute_result"
    },
    {
     "data": {
      "image/png": "[encoded data removed]",
      "text/plain": [
       "<Figure size 432x288 with 1 Axes>"
      ]
     },
     "metadata": {
      "needs_background": "light"
     },
     "output_type": "display_data"
    }
   ],
   "source": [
    "# Plot for loss\n",
    "plt.plot(m_2.history['loss'], label='loss')\n",
    "plt.plot(m_2.history['val_loss'], label='val_loss')\n",
    "plt.legend()"
   ]
  },
  {
   "cell_type": "code",
   "execution_count": 80,
   "metadata": {},
   "outputs": [
    {
     "data": {
      "text/plain": [
       "<matplotlib.legend.Legend at 0x2250050ff70>"
      ]
     },
     "execution_count": 80,
     "metadata": {},
     "output_type": "execute_result"
    },
    {
     "data": {
      "image/png": "[encoded data removed]",
      "text/plain": [
       "<Figure size 432x288 with 1 Axes>"
      ]
     },
     "metadata": {
      "needs_background": "light"
     },
     "output_type": "display_data"
    }
   ],
   "source": [
    "# plot for accuracy\n",
    "plt.plot(m_2.history['accuracy'], label='acc')\n",
    "plt.plot(m_2.history['val_accuracy'], label='val_acc')\n",
    "plt.legend()"
   ]
  },
  {
   "cell_type": "code",
   "execution_count": 81,
   "metadata": {},
   "outputs": [],
   "source": [
    "classes_pred_2 = model_2.predict(testing_padded)\n",
    "testing_labels_predict_2 = classes_pred_2.argmax(axis=-1)"
   ]
  },
  {
   "cell_type": "code",
   "execution_count": 82,
   "metadata": {},
   "outputs": [],
   "source": [
    "cm_2 = confusion_matrix(testing_labels_enc, testing_labels_predict_2)\n",
    "cm_df_2 = pd.DataFrame(cm_2,\n",
    "                     index = col, \n",
    "                     columns = col)"
   ]
  },
  {
   "cell_type": "code",
   "execution_count": 83,
   "metadata": {},
   "outputs": [
    {
     "data": {
      "image/png": "[encoded data removed]",
      "text/plain": [
       "<Figure size 720x720 with 2 Axes>"
      ]
     },
     "metadata": {
      "needs_background": "light"
     },
     "output_type": "display_data"
    }
   ],
   "source": [
    "#Plotting the confusion matrix\n",
    "plt.figure(figsize=(10,10))\n",
    "sns.heatmap(cm_df_2, annot=True)\n",
    "plt.title('Confusion Matrix')\n",
    "plt.ylabel('Actal Values')\n",
    "plt.xlabel('Predicted Values')\n",
    "plt.show()"
   ]
  },
  {
   "cell_type": "code",
   "execution_count": null,
   "metadata": {},
   "outputs": [],
   "source": []
  }
 ],
 "metadata": {
  "kernelspec": {
   "display_name": "Python 3 (ipykernel)",
   "language": "python",
   "name": "python3"
  },
  "language_info": {
   "codemirror_mode": {
    "name": "ipython",
    "version": 3
   },
   "file_extension": ".py",
   "mimetype": "text/x-python",
   "name": "python",
   "nbconvert_exporter": "python",
   "pygments_lexer": "ipython3",
   "version": "3.8.8"
  }
 },
 "nbformat": 4,
 "nbformat_minor": 2
}
